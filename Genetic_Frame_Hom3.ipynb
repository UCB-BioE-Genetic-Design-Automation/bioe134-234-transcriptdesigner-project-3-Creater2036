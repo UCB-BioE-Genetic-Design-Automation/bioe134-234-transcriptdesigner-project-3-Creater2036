{
  "nbformat": 4,
  "nbformat_minor": 0,
  "metadata": {
    "colab": {
      "provenance": [],
      "machine_shape": "hm",
      "authorship_tag": "ABX9TyNubsj7vNkOD1PLMtkmclt3",
      "include_colab_link": true
    },
    "kernelspec": {
      "name": "python3",
      "display_name": "Python 3"
    },
    "language_info": {
      "name": "python"
    }
  },
  "cells": [
    {
      "cell_type": "markdown",
      "metadata": {
        "id": "view-in-github",
        "colab_type": "text"
      },
      "source": [
        "<a href=\"https://colab.research.google.com/github/UCB-BioE-Genetic-Design-Automation/bioe134-234-transcriptdesigner-project-3-Creater2036/blob/main/Genetic_Frame_Hom3.ipynb\" target=\"_parent\"><img src=\"https://colab.research.google.com/assets/colab-badge.svg\" alt=\"Open In Colab\"/></a>"
      ]
    },
    {
      "cell_type": "code",
      "execution_count": 14,
      "metadata": {
        "colab": {
          "base_uri": "https://localhost:8080/"
        },
        "id": "H4bUNxngtQmJ",
        "outputId": "3e23b804-c949-47d3-8e6b-669bc462c9ff"
      },
      "outputs": [
        {
          "output_type": "stream",
          "name": "stdout",
          "text": [
            "Drive already mounted at /content/drive; to attempt to forcibly remount, call drive.mount(\"/content/drive\", force_remount=True).\n"
          ]
        }
      ],
      "source": [
        "from google.colab import drive\n",
        "drive.mount('/content/drive')"
      ]
    },
    {
      "cell_type": "code",
      "source": [
        "%cd /content/drive/MyDrive/VSCode/Genetic_Frame/UCB_BioE134_GeneDesign/\n",
        "!pip install -r requirements.txt\n",
        "%cd /content/drive/MyDrive/VSCode/Genetic_Frame/UCB_BioE134_GeneDesign/genedesign"
      ],
      "metadata": {
        "colab": {
          "base_uri": "https://localhost:8080/"
        },
        "id": "Ysr0NHW9tew9",
        "outputId": "09a8a0ad-90d8-431d-e519-355bea70b138"
      },
      "execution_count": 15,
      "outputs": [
        {
          "output_type": "stream",
          "name": "stdout",
          "text": [
            "/content/drive/MyDrive/VSCode/Genetic_Frame/UCB_BioE134_GeneDesign\n",
            "Requirement already satisfied: pytest in /usr/local/lib/python3.10/dist-packages (from -r requirements.txt (line 1)) (7.4.4)\n",
            "Requirement already satisfied: gdown in /usr/local/lib/python3.10/dist-packages (from -r requirements.txt (line 2)) (5.2.0)\n",
            "Requirement already satisfied: biopython in /usr/local/lib/python3.10/dist-packages (from -r requirements.txt (line 3)) (1.84)\n",
            "Requirement already satisfied: iniconfig in /usr/local/lib/python3.10/dist-packages (from pytest->-r requirements.txt (line 1)) (2.0.0)\n",
            "Requirement already satisfied: packaging in /usr/local/lib/python3.10/dist-packages (from pytest->-r requirements.txt (line 1)) (24.1)\n",
            "Requirement already satisfied: pluggy<2.0,>=0.12 in /usr/local/lib/python3.10/dist-packages (from pytest->-r requirements.txt (line 1)) (1.5.0)\n",
            "Requirement already satisfied: exceptiongroup>=1.0.0rc8 in /usr/local/lib/python3.10/dist-packages (from pytest->-r requirements.txt (line 1)) (1.2.2)\n",
            "Requirement already satisfied: tomli>=1.0.0 in /usr/local/lib/python3.10/dist-packages (from pytest->-r requirements.txt (line 1)) (2.0.2)\n",
            "Requirement already satisfied: beautifulsoup4 in /usr/local/lib/python3.10/dist-packages (from gdown->-r requirements.txt (line 2)) (4.12.3)\n",
            "Requirement already satisfied: filelock in /usr/local/lib/python3.10/dist-packages (from gdown->-r requirements.txt (line 2)) (3.16.1)\n",
            "Requirement already satisfied: requests[socks] in /usr/local/lib/python3.10/dist-packages (from gdown->-r requirements.txt (line 2)) (2.32.3)\n",
            "Requirement already satisfied: tqdm in /usr/local/lib/python3.10/dist-packages (from gdown->-r requirements.txt (line 2)) (4.66.5)\n",
            "Requirement already satisfied: numpy in /usr/local/lib/python3.10/dist-packages (from biopython->-r requirements.txt (line 3)) (1.26.4)\n",
            "Requirement already satisfied: soupsieve>1.2 in /usr/local/lib/python3.10/dist-packages (from beautifulsoup4->gdown->-r requirements.txt (line 2)) (2.6)\n",
            "Requirement already satisfied: charset-normalizer<4,>=2 in /usr/local/lib/python3.10/dist-packages (from requests[socks]->gdown->-r requirements.txt (line 2)) (3.4.0)\n",
            "Requirement already satisfied: idna<4,>=2.5 in /usr/local/lib/python3.10/dist-packages (from requests[socks]->gdown->-r requirements.txt (line 2)) (3.10)\n",
            "Requirement already satisfied: urllib3<3,>=1.21.1 in /usr/local/lib/python3.10/dist-packages (from requests[socks]->gdown->-r requirements.txt (line 2)) (2.2.3)\n",
            "Requirement already satisfied: certifi>=2017.4.17 in /usr/local/lib/python3.10/dist-packages (from requests[socks]->gdown->-r requirements.txt (line 2)) (2024.8.30)\n",
            "Requirement already satisfied: PySocks!=1.5.7,>=1.5.6 in /usr/local/lib/python3.10/dist-packages (from requests[socks]->gdown->-r requirements.txt (line 2)) (1.7.1)\n",
            "/content/drive/MyDrive/VSCode/Genetic_Frame/UCB_BioE134_GeneDesign/genedesign\n"
          ]
        }
      ]
    },
    {
      "cell_type": "code",
      "source": [
        "!python rbs_chooser.py"
      ],
      "metadata": {
        "colab": {
          "base_uri": "https://localhost:8080/"
        },
        "id": "-7l8NQ5NuZIF",
        "outputId": "d9006acc-4900-4ef6-de4a-079acac2fe92"
      },
      "execution_count": null,
      "outputs": [
        {
          "output_type": "stream",
          "name": "stdout",
          "text": [
            "Selected1: RBSOption(utr=Seq('ATTAACAATGTATTCACCGAAAACAAACATATAAATCACAGGAGTCGCCC'), cds=Seq('ATGTCAGTACCCGTTCAACATCCTATGTATATCGATGGACAGTTTGTTACCTGG...TAA'), gene_name='b1415', first_six_aas='MSVPVQ')\n",
            "Selected2: RBSOption(utr=Seq('GGCAAAAATTGGTTACCTTACATCTCATCGAAAACACGGAGGAAGTATAG'), cds=Seq('ATGTCCTTGATTAACACCAAAATTAAACCTTTTAAAAACCAGGCATTCAAAAAC...TAA'), gene_name='b0605', first_six_aas='MSLINT')\n"
          ]
        }
      ]
    },
    {
      "cell_type": "code",
      "source": [
        "%load_ext autoreload\n",
        "%autoreload 2\n",
        "!python /content/drive/MyDrive/VSCode/Genetic_Frame/UCB_BioE134_GeneDesign/genedesign/checkers/RNasE_Checker.py"
      ],
      "metadata": {
        "colab": {
          "base_uri": "https://localhost:8080/"
        },
        "id": "iLVSuuEHDyiR",
        "outputId": "812d4851-88f0-4f46-9d8b-9f4dce483054"
      },
      "execution_count": null,
      "outputs": [
        {
          "output_type": "stream",
          "name": "stdout",
          "text": [
            "The autoreload extension is already loaded. To reload it, use:\n",
            "  %reload_ext autoreload\n",
            "(False, 'AUU')\n"
          ]
        }
      ]
    },
    {
      "cell_type": "code",
      "source": [
        "%load_ext autoreload\n",
        "%autoreload 2\n",
        "!python /content/drive/MyDrive/VSCode/Genetic_Frame/UCB_BioE134_GeneDesign/genedesign/checkers/Interference_Checker.py"
      ],
      "metadata": {
        "colab": {
          "base_uri": "https://localhost:8080/"
        },
        "id": "01gZ97blE8K5",
        "outputId": "42cfa6a5-21fd-42b8-c598-f7bf3681dd01"
      },
      "execution_count": null,
      "outputs": [
        {
          "output_type": "stream",
          "name": "stdout",
          "text": [
            "The autoreload extension is already loaded. To reload it, use:\n",
            "  %reload_ext autoreload\n",
            "(True, None)\n"
          ]
        }
      ]
    },
    {
      "cell_type": "markdown",
      "source": [
        "Main issue seems to be that for each sequence. I'll say run something like hairpin counter and it'll work and only find 1 within the window. But then some place far ahead in the window, beyond the space it contains, it'll find another and because it can't see the hairpin before it, it'll be fine with it and that results in 2 hairpins which means I've failed the test. How do I avoid this? I believe something similar with CAI is happening as well with the rare codons."
      ],
      "metadata": {
        "id": "AXc-nZEgGve0"
      }
    },
    {
      "cell_type": "code",
      "source": [
        "!python /content/drive/MyDrive/VSCode/Genetic_Frame/UCB_BioE134_GeneDesign/genedesign/transcript_designer.py"
      ],
      "metadata": {
        "colab": {
          "base_uri": "https://localhost:8080/"
        },
        "id": "XKrcJdRrMqYS",
        "outputId": "f4f22c0f-9df3-44da-edd0-7f605d4466c8"
      },
      "execution_count": 46,
      "outputs": [
        {
          "output_type": "stream",
          "name": "stdout",
          "text": [
            "ATGAATCCTTCCGACGTATTCCAAATCATCGAGGGTCATACCAAGTTAATGCGGGAT\n",
            "(1, 'Hairpin 1: CAT(ACCAAGTTA)ATG\\n')\n",
            "ATGAATCCTTCCGACGTGTTTCAGATTATAGAAGGCCACACCAAACTGATGCGTGATTCCATACCA\n",
            "(2, 'Hairpin 1: TTC(AGATTATA)GAA\\nHairpin 2: ATG(CGTGATTC)CAT\\n')\n",
            "ATGAATCCTTCCGACGTGTTTCAGATTATCGAAGGGCACACCAAATTAATGCGTGACAGTATTCCTCTTATTGCT\n",
            "(1, 'Hairpin 1: TTC(AGATTATC)GAA\\n')\n",
            "ATGAATCCTTCCGACGTGTTTCAGATTATCGAAGGCCACACCAAACTGATGCGTGATAGTATCCCTCTGATCGCGTCGGAGAAT\n",
            "(2, 'Hairpin 1: TTC(AGATTATC)GAA\\nHairpin 2: ATC(CCTCT)GAT\\n')\n",
            "ATGAATCCTTCCGACGTGTTTCAGATTATCGAAGGCCACACTAAGCTGATGCGCGACTCTATTCCGCTGATTGCAAGCGAAAATCTGACATCT\n",
            "(5, 'Hairpin 1: TTC(AGATTATC)GAA\\nHairpin 2: GCG(ACTCTATTC)CGC\\nHairpin 3: CGC(TGATTGCAA)GCG\\nHairpin 4: GCT(GATTGCA)AGC\\nHairpin 5: ATT(GCAAGCGAA)AAT\\n')\n",
            "ATGAATCCTTCCGACGTGTTTCAGATTATCGAAGGCCACACTAAGCTGATGCGTGATAGTATTCCGCTGATCGCAAGTGAAAACCTGACCTCGCTTAGCGTC\n",
            "(1, 'Hairpin 1: TTC(AGATTATC)GAA\\n')\n",
            "CCTTCCGACGTGTTTCAGATTATCGAAGGCCACACTAAGCTGATGCGTGATAGTATACCCTTAATCGCGAGTGAAAATTTAACATCGCTGAGCGTCCGCCGTTGC\n",
            "(1, 'Hairpin 1: TTC(AGATTATC)GAA\\n')\n",
            "GTGTTTCAGATTATCGAAGGCCACACTAAGCTGATGCGTGATAGTATACCCTTAATCGCTTCGGAAAATTTAACCTCTCTGTCCGTCCGACGTTGTTATGTCTCC\n",
            "(3, 'Hairpin 1: TTC(AGATTATC)GAA\\nHairpin 2: GTC(CGTCC)GAC\\nHairpin 3: GAC(GTTGTTAT)GTC\\n')\n",
            "ATTATCGAAGGCCACACTAAGCTGATGCGTGATAGTATACCCTTAATCGCTTCTGAAAACCTGACGTCCTTGAGTGTCCGTCGCTGTTATGTCTCCGACCTGGGT\n",
            "(0, None)\n",
            "GGCCACACTAAGCTGATGCGTGATAGTATACCCTTAATCGCTTCTGAAAACTTAACCAGCCTTTCAGTCCGTCGTTGCTATGTGAGTGACCTGGGCCACCGCTAC\n",
            "(1, 'Hairpin 1: GTG(ACCTGGGC)CAC\\n')\n",
            "AAGCTGATGCGTGATAGTATACCCTTAATCGCTTCTGAAAACTTAACCAGCCTGTCAGTGCGGCGGTGCTATGTCTCGGATCTGGGCCACCGCTATGCGGAAGGC\n",
            "(2, 'Hairpin 1: GCC(TGTCAGTGC)GGC\\nHairpin 2: CCG(CTATG)CGG\\n')\n",
            "CGTGATAGTATACCCTTAATCGCTTCTGAAAACTTAACCAGCCTGTCAGTGCGCCGCTGCTACGTTTCGGATTTAGGTCATCGTTACGCAGAAGGTCGAGTGGGG\n",
            "(2, 'Hairpin 1: CAG(TGCGCCG)CTG\\nHairpin 2: GAT(TTAGGTC)ATC\\n')\n",
            "ATACCCTTAATCGCTTCTGAAAACTTAACCAGCCTGTCAGTGCGCCGCTGCTATGTGTCGGATCTGGGTCACCGTTATGCCGAGGGGCGCGTGGGGGAACGTTTC\n",
            "(3, 'Hairpin 1: CAG(TGCGCCG)CTG\\nHairpin 2: GCC(GAGG)GGC\\nHairpin 3: CGT(GGGGGA)ACG\\n')\n",
            "ATCGCTTCTGAAAACTTAACCAGCCTGTCAGTGCGCCGCTGCTATGTGTCGGATCTGGGCCACCGCTACGCTGAAGGACGTGTGGGCGAAAGATTCTATGAAGGA\n",
            "(2, 'Hairpin 1: CAG(TGCGCCG)CTG\\nHairpin 2: ACG(CTGAAGGA)CGT\\n')\n",
            "GAAAACTTAACCAGCCTGTCAGTGCGCCGCTGCTATGTGTCGGATCTGGGCCACCGCTATGCGGAGGGGAGGGTGGGAGAACGCTTTTATGAGGGATGTAAGTAC\n",
            "(3, 'Hairpin 1: CAG(TGCGCCG)CTG\\nHairpin 2: CCG(CTATG)CGG\\nHairpin 3: TTA(TGAGGGATG)TAA\\n')\n",
            "ACCAGCCTGTCAGTGCGCCGCTGCTATGTGTCGGATCTGGGCCACCGCTATGCGGAGGGACGTGTTGGCGAGCGTTTTTATGAAGGTTGTAAATACGTTGATCAG\n",
            "(3, 'Hairpin 1: CAG(TGCGCCG)CTG\\nHairpin 2: CCG(CTATG)CGG\\nHairpin 3: TTA(TGAAGGTTG)TAA\\n')\n",
            "TCAGTGCGCCGCTGCTATGTGTCGGATCTGGGCCACCGCTATGCGGAGGGACGTGTTGGCGAACGATTTTACGAAGGCTGCAAATATGTCGACCAGATCGAATCA\n",
            "(6, 'Hairpin 1: CAG(TGCGCCG)CTG\\nHairpin 2: CCG(CTATG)CGG\\nHairpin 3: CGT(GTTGGCGA)ACG\\nHairpin 4: GTT(GGCG)AAC\\nHairpin 5: TCG(ACCAGAT)CGA\\nHairpin 6: CGA(CCAGA)TCG\\n')\n",
            "CGCTGCTATGTGTCGGATCTGGGCCACCGCTATGCGGAGGGACGTGTTGGCGAGCGTTTTTATGAGGGCTGCAAATACGTCGATCAGATTGAAAGCATGGCTATC\n",
            "(1, 'Hairpin 1: CCG(CTATG)CGG\\n')\n",
            "GTGTCGGATCTGGGCCACCGCTATGCGGAGGGACGTGTTGGCGAGCGTTTTTATGAAGGCTGTAAATACGTAGATCAGATTGAGAGTATGGCGATTGAATTGACG\n",
            "(2, 'Hairpin 1: CCG(CTATG)CGG\\nHairpin 2: TTA(TGAAGGCTG)TAA\\n')\n",
            "CTGGGCCACCGCTATGCGGAGGGACGTGTTGGCGAGCGTTTTTATGAAGGCTGTAAATATGTCGACCAGATTGAAAGTATGGCCATCGAACTGACTCGTAAGATA\n",
            "(3, 'Hairpin 1: CCG(CTATG)CGG\\nHairpin 2: TTA(TGAAGGCTG)TAA\\nHairpin 3: CGA(ACTGAC)TCG\\n')\n",
            "CGCTATGCGGAGGGACGTGTTGGCGAGCGTTTTTATGAAGGCTGTAAATATGTTGACCAGATCGAGAGCATGGCCATTGAACTGACACGCAAGATATTTGAGGCG\n",
            "(2, 'Hairpin 1: TTA(TGAAGGCTG)TAA\\nHairpin 2: CAA(GATAT)TTG\\n')\n",
            "GAGGGACGTGTTGGCGAGCGTTTTTATGAAGGCTGTAAATATGTTGACCAGATTGAATCGATGGCCATTGAGCTGACCCGTAAAATCTTTGAAGCTGAACATGCG\n",
            "(2, 'Hairpin 1: TTA(TGAAGGCTG)TAA\\nHairpin 2: AAT(CGATGGCC)ATT\\n')\n",
            "GTTGGCGAGCGTTTTTATGAAGGCTGTAAATATGTTGACCAGATTGAATCGATGGCCATTGAGCTGACACGCAAAATCTTCGAAGCCGAGCATGCAAACGTCCAG\n",
            "(3, 'Hairpin 1: TTA(TGAAGGCTG)TAA\\nHairpin 2: AAT(CGATGGCC)ATT\\nHairpin 3: TCG(AAGC)CGA\\n')\n",
            "CGTTTTTATGAAGGCTGTAAATATGTTGACCAGATTGAATCGATGGCCATTGAACTGACCCGTAAAATTTTCGAGGCAGAGCATGCAAACGTTCAGCCAATCAGC\n",
            "(3, 'Hairpin 1: TTA(TGAAGGCTG)TAA\\nHairpin 2: AAT(CGATGGCC)ATT\\nHairpin 3: GCA(GAGCA)TGC\\n')\n",
            "GAAGGCTGTAAATATGTTGACCAGATTGAATCGATGGCCATTGAACTGACCCGGAAAATCTTTGAGGCCGAGCATGCGAACGTCCAACCGATAAGTGGGGTAGTC\n",
            "(3, 'Hairpin 1: AAT(CGATGGCC)ATT\\nHairpin 2: CCA(ACCGATAAG)TGG\\nHairpin 3: ACC(GATAAGTGG)GGT\\n')\n",
            "AAATATGTTGACCAGATTGAATCGATGGCCATTGAACTGACCCGGAAAATCTTTGAAGCCGAGCATGCGAACGTTCAGCCGATTTCAGGCGTTGTAGCTAACCTG\n",
            "(3, 'Hairpin 1: AAT(CGATGGCC)ATT\\nHairpin 2: GCC(GATTTCA)GGC\\nHairpin 3: GTT(GTAGCT)AAC\\n')\n",
            "GACCAGATTGAATCGATGGCCATTGAACTGACCCGGAAAATCTTTGAAGCCGAGCACGCCAATGTCCAGCCGATTTCAGGTGTGGTCGCGAATTTAGCAGCTTTT\n",
            "(2, 'Hairpin 1: AAT(CGATGGCC)ATT\\nHairpin 2: AAT(GTCCAGCCG)ATT\\n')\n",
            "GAATCGATGGCCATTGAACTGACCCGGAAAATCTTTGAAGCCGAGCACGCCAACGTTCAACCAATCTCAGGCGTGGTCGCTAATCTGGCCGCCTTTTTTGCTTTA\n",
            "(3, 'Hairpin 1: AAT(CGATGGCC)ATT\\nHairpin 2: ACG(CCAA)CGT\\nHairpin 3: GCG(TGGT)CGC\\n')\n",
            "GCCATTGAACTGACCCGGAAAATCTTTGAAGCCGAGCACGCCAACGTTCAACCGATTTCTGGAGTTGTCGCTAATCTTGCCGCGTTCTTCGCTCTTACCAACGTC\n",
            "(2, 'Hairpin 1: ACG(CCAA)CGT\\nHairpin 2: GCG(TTCTT)CGC\\n')\n",
            "CTGACCCGGAAAATCTTTGAAGCCGAGCACGCCAACGTTCAACCGATTTCTGGCGTTGTAGCGAATTTAGCAGCCTTTTTCGCCTTGACCAATGTTGGGGACACC\n",
            "(3, 'Hairpin 1: ACG(CCAA)CGT\\nHairpin 2: CCA(ATGT)TGG\\nHairpin 3: TGT(TGGGG)ACA\\n')\n",
            "AAAATCTTTGAAGCCGAGCACGCCAACGTTCAACCGATTTCTGGCGTTGTAGCGAATTTGGCCGCTTTCTTTGCCCTGACTAATGTTGGCGATACGATCATGAGC\n",
            "(2, 'Hairpin 1: ACG(CCAA)CGT\\nHairpin 2: GCG(AATTTGGC)CGC\\n')\n",
            "GAAGCCGAGCACGCCAACGTTCAACCGATTTCTGGCGTTGTAGCGAATTTGGCCGCGTTCTTTGCCCTTACGAACGTTGGCGACACCATCATGAGTATAAGCGTG\n",
            "(3, 'Hairpin 1: ACG(CCAA)CGT\\nHairpin 2: GCG(AATTTGGC)CGC\\nHairpin 3: TGG(CGACA)CCA\\n')\n",
            "CACGCCAACGTTCAACCGATTTCTGGCGTTGTAGCGAATTTGGCCGCGTTCTTCGCCCTGACGAATGTAGGTGACACTATTATGAGTATCTCAGTTCCATGTGGC\n",
            "(10, 'Hairpin 1: ACG(CCAA)CGT\\nHairpin 2: GCG(AATTTGGC)CGC\\nHairpin 3: GCG(TTCTT)CGC\\nHairpin 4: TTC(GCCCTGAC)GAA\\nHairpin 5: TCG(CCCTGA)CGA\\nHairpin 6: CCT(GACGAATGT)AGG\\nHairpin 7: TGT(AGGTG)ACA\\nHairpin 8: TAG(GTGACA)CTA\\nHairpin 9: ACT(ATTATG)AGT\\nHairpin 10: TGA(GTATC)TCA\\n')\n",
            "GTTCAACCGATTTCTGGCGTTGTAGCGAATTTGGCCGCGTTCTTCGCCCTGACTAACGTCGGTGATACCATTATGTCAATCTCCGTTCCGTGTGGTGGCCACATT\n",
            "(8, 'Hairpin 1: GCG(AATTTGGC)CGC\\nHairpin 2: GCG(TTCTT)CGC\\nHairpin 3: GAC(TAAC)GTC\\nHairpin 4: ATA(CCAT)TAT\\nHairpin 5: ATT(ATGTC)AAT\\nHairpin 6: GTG(TGGTGGC)CAC\\nHairpin 7: TGT(GGTGGCC)ACA\\nHairpin 8: GTG(GTGGC)CAC\\n')\n",
            "ATTTCTGGCGTTGTAGCGAATTTGGCCGCGTTCTTCGCCCTGACTAACGTCGGAGATACCATTATGAGTATCTCGGTGCCGTGTGGAGGTCATATCTCGCACGAT\n",
            "(7, 'Hairpin 1: GCG(AATTTGGC)CGC\\nHairpin 2: GCG(TTCTT)CGC\\nHairpin 3: GAC(TAAC)GTC\\nHairpin 4: ATA(CCAT)TAT\\nHairpin 5: TAC(CATTATGA)GTA\\nHairpin 6: GAG(GTCATAT)CTC\\nHairpin 7: ATC(TCGCAC)GAT\\n')\n",
            "GTTGTAGCGAATTTGGCCGCGTTCTTCGCCCTGACTAACGTCGGAGATACCATTATGTCCATTAGTGTGCCATGCGGCGGCCATATTAGCCACGACAGGGTATCA\n",
            "(9, 'Hairpin 1: GCG(AATTTGGC)CGC\\nHairpin 2: GCG(TTCTT)CGC\\nHairpin 3: GAC(TAAC)GTC\\nHairpin 4: ATA(CCAT)TAT\\nHairpin 5: CAT(TAGTGTGCC)ATG\\nHairpin 6: GCC(ATGC)GGC\\nHairpin 7: GCC(ATGCGGC)GGC\\nHairpin 8: ATG(CGGCGGC)CAT\\nHairpin 9: GGC(CATATTA)GCC\\n')\n",
            "AATTTGGCCGCGTTCTTCGCCCTGACTAACGTCGGAGATACCATTATGTCCATTTCTGTCCCTTGCGGCGGTCACATAAGCCACGATCGCGTATCCGCGGCAGGC\n",
            "(7, 'Hairpin 1: GCG(TTCTT)CGC\\nHairpin 2: GAC(TAAC)GTC\\nHairpin 3: ATA(CCAT)TAT\\nHairpin 4: ACG(ATCG)CGT\\nHairpin 5: GAT(CGCGT)ATC\\nHairpin 6: CGC(GTATCC)GCG\\nHairpin 7: GCG(TATC)CGC\\n')\n",
            "GCGTTCTTCGCCCTGACTAACGTCGGAGATACCATTATGTCCATTTCTGTCCCTTGCGGAGGACACATCAGCCACGATCGGGTTAGCGCAGCGGGTCTTCGAGGC\n",
            "(7, 'Hairpin 1: GCG(TTCTT)CGC\\nHairpin 2: GAC(TAAC)GTC\\nHairpin 3: ATA(CCAT)TAT\\nHairpin 4: TCC(CTTGC)GGA\\nHairpin 5: TCC(CTTGCGGA)GGA\\nHairpin 6: CCT(TGCGG)AGG\\nHairpin 7: ATC(AGCCAC)GAT\\n')\n",
            "GCCCTGACTAACGTCGGAGATACCATTATGTCCATTTCTGTCCCTTGCGGAGGCCATATCTCTCATGATCGCGTGTCCGCTGCCGGCCTCAGAGGTCTTCGCGTC\n",
            "(11, 'Hairpin 1: GAC(TAAC)GTC\\nHairpin 2: ATA(CCAT)TAT\\nHairpin 3: TCC(CTTGC)GGA\\nHairpin 4: CCT(TGCGG)AGG\\nHairpin 5: GAG(GCCATAT)CTC\\nHairpin 6: GAG(GCCATATCT)CTC\\nHairpin 7: CAT(ATCTCTC)ATG\\nHairpin 8: ATC(TCTCAT)GAT\\nHairpin 9: GCG(TGTC)CGC\\nHairpin 10: CCG(CTGC)CGG\\nHairpin 11: CTG(CCGGCCT)CAG\\n')\n",
            "AACGTCGGAGATACCATTATGTCCATTTCTGTCCCTTGCGGAGGCCATATCTCACACGACCGCGTTAGCGCAGCGGGCCTGCGAGGCTTGCGGGTCATTCATTAT\n",
            "(12, 'Hairpin 1: ATA(CCAT)TAT\\nHairpin 2: TCC(CTTGC)GGA\\nHairpin 3: CCT(TGCGG)AGG\\nHairpin 4: GAG(GCCATAT)CTC\\nHairpin 5: ACG(ACCG)CGT\\nHairpin 6: CGC(GTTA)GCG\\nHairpin 7: CGC(GTTAGCGCA)GCG\\nHairpin 8: GCG(TTAG)CGC\\nHairpin 9: CGC(AGCGGGCCT)GCG\\nHairpin 10: GCA(GCGGGCC)TGC\\nHairpin 11: CAG(CGGGC)CTG\\nHairpin 12: GCC(TGCGA)GGC\\n')\n",
            "GATACCATTATGTCCATTTCTGTCCCTTGCGGAGGCCATATCTCACACGACCGGGTGAGTGCAGCGGGGCTGCGGGGTCTGCGTGTCATTCATTATCCGTTCAAT\n",
            "(9, 'Hairpin 1: ATA(CCAT)TAT\\nHairpin 2: TCC(CTTGC)GGA\\nHairpin 3: CCT(TGCGG)AGG\\nHairpin 4: GAG(GCCATAT)CTC\\nHairpin 5: CAC(ACGACCGG)GTG\\nHairpin 6: CAC(GACCGG)GTG\\nHairpin 7: GCA(GCGGGGC)TGC\\nHairpin 8: CAG(CGGGG)CTG\\nHairpin 9: ATT(ATCCGTTC)AAT\\n')\n",
            "ATGTCCATTTCTGTCCCTTGCGGAGGCCATATCTCACACGACCGGGTGAGTGCTGCGGGGCTGCGCGGACTGCGGGTCATCCATTATCCTTTCAACAGCGAGGAG\n",
            "(8, 'Hairpin 1: TCC(CTTGC)GGA\\nHairpin 2: CCT(TGCGG)AGG\\nHairpin 3: GAG(GCCATAT)CTC\\nHairpin 4: CAC(ACGACCGG)GTG\\nHairpin 5: CAC(GACCGG)GTG\\nHairpin 6: GCG(GGGCTG)CGC\\nHairpin 7: CGC(GGACT)GCG\\nHairpin 8: GAC(TGCGG)GTC\\n')\n",
            "TCTGTCCCTTGCGGAGGCCATATCTCACACGACCGGGTGAGTGCTGCGGGGTTGCGTGGCCTGCGCGTTATTCATTATCCGTTTAACAGCGAAGAGATGAGCGTT\n",
            "(7, 'Hairpin 1: TCC(CTTGC)GGA\\nHairpin 2: CCT(TGCGG)AGG\\nHairpin 3: GAG(GCCATAT)CTC\\nHairpin 4: CAC(ACGACCGG)GTG\\nHairpin 5: CAC(GACCGG)GTG\\nHairpin 6: GCG(TGGCCTG)CGC\\nHairpin 7: TTA(TCCGTT)TAA\\n')\n",
            "TGCGGAGGCCATATCTCACACGACCGGGTGAGTGCTGCGGGGTTGCGTGGCTTACGGGTTATTCATTATCCGTTTAATTCTGAAGAAATGTCGGTAGATGTAGAC\n",
            "(8, 'Hairpin 1: GAG(GCCATAT)CTC\\nHairpin 2: CAC(ACGACCGG)GTG\\nHairpin 3: CAC(GACCGG)GTG\\nHairpin 4: CGT(GGCTT)ACG\\nHairpin 5: ATT(ATCCGTTT)AAT\\nHairpin 6: TTA(TCCGTT)TAA\\nHairpin 7: ATT(CTGAAGA)AAT\\nHairpin 8: TTC(TGAA)GAA\\n')\n",
            "CATATCTCACACGACCGGGTGAGTGCTGCGGGGTTGCGTGGCTTACGGGTTATTCATTATCCGTTCAACTCTGAGGAGATGTCGGTAGATGTTGATGAAACCCGT\n",
            "(7, 'Hairpin 1: CAC(ACGACCGG)GTG\\nHairpin 2: CAC(GACCGG)GTG\\nHairpin 3: CGT(GGCTT)ACG\\nHairpin 4: TCA(ACTC)TGA\\nHairpin 5: CTC(TGAG)GAG\\nHairpin 6: TCT(GAGG)AGA\\nHairpin 7: GTT(GATGA)AAC\\n')\n",
            "CACGACCGGGTGAGTGCTGCGGGGTTGCGTGGCTTACGGGTTATTCATTATCCGTTTAATAGCGAAGAGATGTCTGTAGATGTTGATGAAACCCGTAAAGTCGCA\n",
            "(7, 'Hairpin 1: CAC(GACCGG)GTG\\nHairpin 2: CGT(GGCTT)ACG\\nHairpin 3: ATT(ATCCGTTT)AAT\\nHairpin 4: TTA(TCCGTT)TAA\\nHairpin 5: TAT(CCGTTTA)ATA\\nHairpin 6: AGA(GATG)TCT\\nHairpin 7: GTT(GATGA)AAC\\n')\n",
            "GTGAGTGCTGCGGGGTTGCGTGGCTTACGGGTTATTCATTATCCGTTTAATAGTGAAGAGATGTCTGTCGATGTGGATGAAACTCGTAAAGTGGCAGAGCGTGAG\n",
            "(6, 'Hairpin 1: CGT(GGCTT)ACG\\nHairpin 2: ATT(ATCCGTTT)AAT\\nHairpin 3: TTA(TCCGTT)TAA\\nHairpin 4: TAT(CCGTTTA)ATA\\nHairpin 5: AGA(GATG)TCT\\nHairpin 6: ACT(CGTAA)AGT\\n')\n",
            "GCGGGGTTGCGTGGCTTACGGGTTATTCATTATCCGTTTAATAGTGAAGAGATGAGCGTAGATGTGGATGAAACGAGGAAAGTGGCCGAACGGGAGCGGCCCAAA\n",
            "(6, 'Hairpin 1: CGT(GGCTT)ACG\\nHairpin 2: ATT(ATCCGTTT)AAT\\nHairpin 3: TTA(TCCGTT)TAA\\nHairpin 4: TAT(CCGTTTA)ATA\\nHairpin 5: CCG(AACGGGAG)CGG\\nHairpin 6: GGG(AGCGG)CCC\\n')\n",
            "CGTGGCTTACGGGTTATTCATTATCCGTTTAATAGTGAAGAGATGAGCGTAGATGTCGACGAAACGCGCAAAGTGGCCGAACGGGAGCGCCCGAAACTGTTCATT\n",
            "(8, 'Hairpin 1: CGT(GGCTT)ACG\\nHairpin 2: ATT(ATCCGTTT)AAT\\nHairpin 3: TTA(TCCGTT)TAA\\nHairpin 4: TAT(CCGTTTA)ATA\\nHairpin 5: CGT(AGATGTCG)ACG\\nHairpin 6: CGG(GAGCGC)CCG\\nHairpin 7: GGG(AGCG)CCC\\nHairpin 8: GAA(ACTG)TTC\\n')\n",
            "CGGGTTATTCATTATCCGTTTAATAGTGAAGAGATGAGCGTAGATGTCGACGAGACACGCAAAGTCGCGGAGCGTGAACGTCCCAAACTGTTCATCCTGGGTTCT\n",
            "(9, 'Hairpin 1: ATT(ATCCGTTT)AAT\\nHairpin 2: TTA(TCCGTT)TAA\\nHairpin 3: TAT(CCGTTTA)ATA\\nHairpin 4: CGT(AGATGTCG)ACG\\nHairpin 5: TGT(CGACGAG)ACA\\nHairpin 6: GTC(GACGA)GAC\\nHairpin 7: GAC(ACGCAAA)GTC\\nHairpin 8: CGC(AAAGTC)GCG\\nHairpin 9: GGA(GCGTGAACG)TCC\\n')\n",
            "CATTATCCGTTTAATAGTGAAGAGATGAGCGTAGATGTCGACGAGACACGCAAAGTAGCGGAGCGTGAGCGCCCGAAGCTGTTTATTCTGGGAAGCACGCTGATT\n",
            "(11, 'Hairpin 1: ATT(ATCCGTTT)AAT\\nHairpin 2: TTA(TCCGTT)TAA\\nHairpin 3: TAT(CCGTTTA)ATA\\nHairpin 4: CGT(AGATGTCG)ACG\\nHairpin 5: TGT(CGACGAG)ACA\\nHairpin 6: GTC(GACGA)GAC\\nHairpin 7: CGC(AAAGTA)GCG\\nHairpin 8: GCG(GAGCGTGAG)CGC\\nHairpin 9: GCG(TGAG)CGC\\nHairpin 10: AGC(GCCCGAA)GCT\\nHairpin 11: GAA(GCTGTTTA)TTC\\n')\n",
            "TTTAATAGTGAAGAGATGAGCGTAGATGTCGACGAGACACGCAAAGTAGCGGAACGCGAGCGGCCGAAACTCTTTATCCTTGGTTCCACCCTGATCCTGTTTCGT\n",
            "(5, 'Hairpin 1: CGT(AGATGTCG)ACG\\nHairpin 2: TGT(CGACGAG)ACA\\nHairpin 3: GTC(GACGA)GAC\\nHairpin 4: CGC(AAAGTA)GCG\\nHairpin 5: GAG(CGGCCGAAA)CTC\\n')\n",
            "GAAGAGATGAGCGTAGATGTCGACGAGACACGCAAAGTAGCGGAACGCGAGCGCCCTAAGTTATTCATATTAGGATCTACACTGATTCTGTTCCGACAACCAGTC\n",
            "(10, 'Hairpin 1: CGT(AGATGTCG)ACG\\nHairpin 2: TGT(CGACGAG)ACA\\nHairpin 3: GTC(GACGA)GAC\\nHairpin 4: CGC(AAAGTA)GCG\\nHairpin 5: GCG(GAACGCGAG)CGC\\nHairpin 6: ATC(TACACT)GAT\\nHairpin 7: ACA(CTGATTC)TGT\\nHairpin 8: TGT(TCCG)ACA\\nHairpin 9: GTT(CCGAC)AAC\\nHairpin 10: GAC(AACCA)GTC\\n')\n",
            "AGCGTAGATGTCGACGAGACACGCAAAGTAGCGGAACGCGAGCGCCCTAAGCTGTTTATTTTGGGGTCTACACTGATTCTGTTTCGGCAGCCTGTCAAAGAGATT\n",
            "(9, 'Hairpin 1: CGT(AGATGTCG)ACG\\nHairpin 2: TGT(CGACGAG)ACA\\nHairpin 3: GTC(GACGA)GAC\\nHairpin 4: CGC(AAAGTA)GCG\\nHairpin 5: GCG(GAACGCGAG)CGC\\nHairpin 6: AGC(GCCCTAA)GCT\\nHairpin 7: TAA(GCTGT)TTA\\nHairpin 8: ACA(CTGATTC)TGT\\nHairpin 9: CTG(TTTCGG)CAG\\n')\n",
            "GTCGACGAGACACGCAAAGTAGCGGAACGCGAGCGCCCTAAGCTGTTTATTTTAGGCTCGACCCTAATTTTGTTCCGTCAGCCGGTTAAAGAGATCCGTGAAATC\n",
            "(9, 'Hairpin 1: GTC(GACGA)GAC\\nHairpin 2: CGC(AAAGTA)GCG\\nHairpin 3: GCG(GAACGCGAG)CGC\\nHairpin 4: AGC(GCCCTAA)GCT\\nHairpin 5: TAA(GCTGT)TTA\\nHairpin 6: TAG(GCTCGACC)CTA\\nHairpin 7: AGG(CTCGAC)CCT\\nHairpin 8: CCG(TCAGC)CGG\\nHairpin 9: GAT(CCGTGAA)ATC\\n')\n",
            "ACACGCAAAGTAGCGGAACGCGAGCGCCCTAAGCTGTTTATTTTAGGCTCGACCTTAATTCTCTTCCGCCAGCCAGTCAAGGAAATACGAGAAATTGCTGATGAA\n",
            "(6, 'Hairpin 1: CGC(AAAGTA)GCG\\nHairpin 2: GCG(GAACGCGAG)CGC\\nHairpin 3: AGC(GCCCTAA)GCT\\nHairpin 4: TAA(GCTGT)TTA\\nHairpin 5: AGG(CTCGA)CCT\\nHairpin 6: AAT(ACGAGAA)ATT\\n')\n",
            "GTAGCGGAACGCGAGCGCCCTAAGCTGTTTATTTTAGGCTCGACCTTAATTCTATTCCGTCAGCCGGTGAAAGAGATTCGCGAAATCGCCGATGAAATTGGTGCA\n",
            "(11, 'Hairpin 1: GCG(GAACGCGAG)CGC\\nHairpin 2: AGC(GCCCTAA)GCT\\nHairpin 3: TAA(GCTGT)TTA\\nHairpin 4: AGG(CTCGA)CCT\\nHairpin 5: CCG(TCAGC)CGG\\nHairpin 6: TCA(GCCGG)TGA\\nHairpin 7: GAA(AGAGA)TTC\\nHairpin 8: GAT(TCGCGAA)ATC\\nHairpin 9: ATT(CGCGA)AAT\\nHairpin 10: TCG(CGAAATCGC)CGA\\nHairpin 11: GCG(AAAT)CGC\\n')\n",
            "CGCGAGCGCCCTAAGCTGTTTATTTTAGGCTCGACCTTAATTCTATTCCGTCAACCGGTCAAAGAAATCAGAGAGATCGCCGACGAAATCGGTGCGTATGTCATG\n",
            "(9, 'Hairpin 1: AGC(GCCCTAA)GCT\\nHairpin 2: TAA(GCTGT)TTA\\nHairpin 3: AGG(CTCGA)CCT\\nHairpin 4: CCG(TCAAC)CGG\\nHairpin 5: ATC(AGAGA)GAT\\nHairpin 6: TCG(CCGA)CGA\\nHairpin 7: CCG(ACGAAAT)CGG\\nHairpin 8: CGA(CGAAA)TCG\\nHairpin 9: ACG(AAATCGGTG)CGT\\n')\n",
            "CCTAAGCTGTTTATTTTAGGCTCGACCTTAATTCTATTCCGTCAACCGGTCAAAGAAATTCGCGAGATTGCTGATGAAATTGGCGCATATGTAATGTACGACGCT\n",
            "(7, 'Hairpin 1: TAA(GCTGT)TTA\\nHairpin 2: AGG(CTCGA)CCT\\nHairpin 3: CCG(TCAAC)CGG\\nHairpin 4: AAT(TCGCGAG)ATT\\nHairpin 5: ATT(GCTGATGA)AAT\\nHairpin 6: ATG(AAATTGGCG)CAT\\nHairpin 7: CAT(ATGTA)ATG\\n')\n",
            "TTTATTTTAGGCTCGACCTTAATTCTATTCCGTCAACCGGTCAAAGAAATTCGAGAAATCGCAGACGAGATCGGCGCCTATGTGATGTACGATGCGAGCCACGTG\n",
            "(6, 'Hairpin 1: AGG(CTCGA)CCT\\nHairpin 2: CCG(TCAAC)CGG\\nHairpin 3: ATT(CGAGA)AAT\\nHairpin 4: CGA(GAAA)TCG\\nHairpin 5: ATC(GCAGACGA)GAT\\nHairpin 6: TCG(CAGA)CGA\\n')\n",
            "GGCTCGACCTTAATTCTATTCCGTCAACCGGTCAAAGAAATTCGAGAAATCGCCGACGAAATTGGCGCGTATGTGATGTATGACGCCAGCCACGTCCTGGGTTTA\n",
            "(12, 'Hairpin 1: CCG(TCAAC)CGG\\nHairpin 2: ATT(CGAGA)AAT\\nHairpin 3: TCG(AGAAATCGC)CGA\\nHairpin 4: CGA(GAAA)TCG\\nHairpin 5: TCG(CCGA)CGA\\nHairpin 6: GCC(GACGAAATT)GGC\\nHairpin 7: ACG(AAATTGGCG)CGT\\nHairpin 8: GAC(GCCAGCCAC)GTC\\nHairpin 9: ACG(CCAGCCA)CGT\\nHairpin 10: CCA(GCCACGTCC)TGG\\nHairpin 11: CAG(CCACGTC)CTG\\nHairpin 12: CCA(CGTCC)TGG\\n')\n",
            "TTAATTCTATTCCGTCAACCGGTCAAAGAAATTCGAGAAATCGCCGACGAAATAGGGGCGTATGTGATGTATGATGCGAGTCACGTTCTGGGCCTGATTGCGGGA\n",
            "(8, 'Hairpin 1: CCG(TCAAC)CGG\\nHairpin 2: ATT(CGAGA)AAT\\nHairpin 3: TCG(AGAAATCGC)CGA\\nHairpin 4: CGA(GAAA)TCG\\nHairpin 5: TCG(CCGA)CGA\\nHairpin 6: ACG(AAATAGGGG)CGT\\nHairpin 7: ATA(GGGGCG)TAT\\nHairpin 8: TGA(TGCGAG)TCA\\n')\n",
            "TTCCGTCAACCGGTCAAAGAAATTCGAGAAATCGCCGACGAAATAGGGGCGTATGTCATGTACGATGCGTCGCATGTCCTGGGGCTGATCGCGGGCAAAGCATTT\n",
            "(12, 'Hairpin 1: CCG(TCAAC)CGG\\nHairpin 2: ATT(CGAGA)AAT\\nHairpin 3: TCG(AGAAATCGC)CGA\\nHairpin 4: CGA(GAAA)TCG\\nHairpin 5: TCG(CCGA)CGA\\nHairpin 6: ACG(AAATAGGGG)CGT\\nHairpin 7: ATA(GGGGCG)TAT\\nHairpin 8: CGT(ATGTCATGT)ACG\\nHairpin 9: GTA(TGTCATG)TAC\\nHairpin 10: CAT(GTACG)ATG\\nHairpin 11: CGA(TGCG)TCG\\nHairpin 12: ATG(CGTCG)CAT\\n')\n",
            "CCGGTCAAAGAAATTCGAGAAATCGCCGACGAAATAGGGGCGTATGTCATGTACGATGCATCCCATGTGTTAGGCCTGATTGCCGGCAAAGCGTTCCAAAACCCG\n",
            "(15, 'Hairpin 1: ATT(CGAGA)AAT\\nHairpin 2: TCG(AGAAATCGC)CGA\\nHairpin 3: CGA(GAAA)TCG\\nHairpin 4: TCG(CCGA)CGA\\nHairpin 5: ACG(AAATAGGGG)CGT\\nHairpin 6: ATA(GGGGCG)TAT\\nHairpin 7: CGT(ATGTCATGT)ACG\\nHairpin 8: GTA(TGTCATG)TAC\\nHairpin 9: CAT(GTACG)ATG\\nHairpin 10: ATG(TACGATG)CAT\\nHairpin 11: ATG(CATCC)CAT\\nHairpin 12: GGC(CTGATT)GCC\\nHairpin 13: GCC(TGATTGCC)GGC\\nHairpin 14: TTG(CCGG)CAA\\nHairpin 15: GTT(CCAA)AAC\\n')\n",
            "GAAATTCGAGAAATCGCCGACGAAATAGGGGCGTATGTCATGTACGATGCATCACACGTGCTCGGCTTGATCGCCGGCAAGGCCTTTCAGAACCCCCTTAAGGAA\n",
            "(15, 'Hairpin 1: ATT(CGAGA)AAT\\nHairpin 2: TCG(AGAAATCGC)CGA\\nHairpin 3: CGA(GAAA)TCG\\nHairpin 4: TCG(CCGA)CGA\\nHairpin 5: ACG(AAATAGGGG)CGT\\nHairpin 6: ATA(GGGGCG)TAT\\nHairpin 7: CGT(ATGTCATGT)ACG\\nHairpin 8: GTA(TGTCATG)TAC\\nHairpin 9: CAT(GTACG)ATG\\nHairpin 10: ATG(TACGATG)CAT\\nHairpin 11: GCA(TCACACG)TGC\\nHairpin 12: CGG(CTTGATCG)CCG\\nHairpin 13: GGC(TTGATC)GCC\\nHairpin 14: TTG(ATCGCCGG)CAA\\nHairpin 15: GCC(GGCAA)GGC\\n')\n",
            "GAAATCGCCGACGAAATAGGGGCGTATGTCATGTACGATGCATCACACGTGCTGGGTCTGATCGCGGGAAAAGCGTTTCAAAATCCTCTGAAAGAAGGCGCCGAC\n",
            "(13, 'Hairpin 1: TCG(CCGA)CGA\\nHairpin 2: ACG(AAATAGGGG)CGT\\nHairpin 3: ATA(GGGGCG)TAT\\nHairpin 4: CGT(ATGTCATGT)ACG\\nHairpin 5: GTA(TGTCATG)TAC\\nHairpin 6: CAT(GTACG)ATG\\nHairpin 7: ATG(TACGATG)CAT\\nHairpin 8: GCA(TCACACG)TGC\\nHairpin 9: CGC(GGGAAAA)GCG\\nHairpin 10: GAA(AAGCGT)TTC\\nHairpin 11: AAA(AGCG)TTT\\nHairpin 12: TCA(AAATCCTC)TGA\\nHairpin 13: CCT(CTGAAAGA)AGG\\n')\n",
            "GACGAAATAGGGGCGTATGTCATGTACGATGCATCACACGTGCTGGGTCTGATCGCAGGCAAGGCCTTTCAGAACCCGCTAAAAGAGGGCGCCGATGTGATGACC\n",
            "(11, 'Hairpin 1: ACG(AAATAGGGG)CGT\\nHairpin 2: ATA(GGGGCG)TAT\\nHairpin 3: CGT(ATGTCATGT)ACG\\nHairpin 4: GTA(TGTCATG)TAC\\nHairpin 5: CAT(GTACG)ATG\\nHairpin 6: ATG(TACGATG)CAT\\nHairpin 7: GCA(TCACACG)TGC\\nHairpin 8: CTG(ATCG)CAG\\nHairpin 9: AGG(CAAGG)CCT\\nHairpin 10: CCC(GCTAAAAGA)GGG\\nHairpin 11: CGC(TAAAAGAGG)GCG\\n')\n",
            "GGGGCGTATGTCATGTACGATGCATCACACGTGCTGGGTCTGATCGCAGGCAAGGCATTTCAGAATCCGCTGAAAGAAGGGGCCGACGTGATGACGGGATCAACT\n",
            "(14, 'Hairpin 1: CGT(ATGTCATGT)ACG\\nHairpin 2: GTA(TGTCATG)TAC\\nHairpin 3: CAT(GTACG)ATG\\nHairpin 4: ATG(TACGATG)CAT\\nHairpin 5: GCA(TCACACG)TGC\\nHairpin 6: CTG(ATCG)CAG\\nHairpin 7: ATT(TCAG)AAT\\nHairpin 8: TCA(GAATCCGC)TGA\\nHairpin 9: CAG(AATCCG)CTG\\nHairpin 10: CCG(ACGTGATGA)CGG\\nHairpin 11: CGT(GATG)ACG\\nHairpin 12: TGA(TGACGGGA)TCA\\nHairpin 13: GAT(GACGGG)ATC\\nHairpin 14: TGA(CGGGA)TCA\\n')\n",
            "GTCATGTACGATGCATCACACGTGCTGGGTCTGATCGCAGGCAAGGCATTTCAGAACCCCCTGAAAGAAGGCGCGGATGTTATGACCGGGAGCACGCACAAGACC\n",
            "(8, 'Hairpin 1: CAT(GTACG)ATG\\nHairpin 2: ATG(TACGATG)CAT\\nHairpin 3: GCA(TCACACG)TGC\\nHairpin 4: CTG(ATCG)CAG\\nHairpin 5: TCA(GAACCCCC)TGA\\nHairpin 6: CAG(AACCCC)CTG\\nHairpin 7: CCT(GAAAGA)AGG\\nHairpin 8: CGG(ATGTTATGA)CCG\\n')\n",
            "GATGCATCACACGTGCTGGGTCTGATCGCAGGCAAGGCATTTCAGAACCCCCTGAAGGAGGGTGCGGATGTGATGACCGGCTCGACACATAAGACCTTCTTTGGA\n",
            "(10, 'Hairpin 1: GCA(TCACACG)TGC\\nHairpin 2: CTG(ATCG)CAG\\nHairpin 3: TCA(GAACCCCC)TGA\\nHairpin 4: CAG(AACCCC)CTG\\nHairpin 5: CCC(CCTGAAGGA)GGG\\nHairpin 6: CCC(CTGAAGGA)GGG\\nHairpin 7: CCC(TGAAGGA)GGG\\nHairpin 8: CCT(GAAGG)AGG\\nHairpin 9: CGG(ATGTGATGA)CCG\\nHairpin 10: AAG(ACCTT)CTT\\n')\n",
            "CACGTGCTGGGTCTGATCGCAGGCAAGGCATTTCAGAACCCCCTGAAGGAGGGTGCCGACGTGATGACAGGCAGCACGCATAAAACCTTTTTTGGTCCGCAACGT\n",
            "(14, 'Hairpin 1: CTG(ATCG)CAG\\nHairpin 2: TCA(GAACCCCC)TGA\\nHairpin 3: CAG(AACCCC)CTG\\nHairpin 4: CCC(CCTGAAGGA)GGG\\nHairpin 5: CCC(CTGAAGGA)GGG\\nHairpin 6: CCC(TGAAGGA)GGG\\nHairpin 7: CCT(GAAGG)AGG\\nHairpin 8: AAA(ACCT)TTT\\nHairpin 9: AAA(ACCTT)TTT\\nHairpin 10: AAA(ACCTTT)TTT\\nHairpin 11: AAA(CCTT)TTT\\nHairpin 12: AAA(CCTTT)TTT\\nHairpin 13: ACC(TTTTTT)GGT\\nHairpin 14: TTG(GTCCG)CAA\\n')\n",
            "GGTCTGATCGCAGGCAAGGCATTTCAGAACCCCCTGAAGGAGGGTGCCGACGTCATGACCGGTAGTACCCATAAAACCTTCTTCGGGCCGCAACGTGCAATCATC\n",
            "(7, 'Hairpin 1: CTG(ATCG)CAG\\nHairpin 2: TCA(GAACCCCC)TGA\\nHairpin 3: CAG(AACCCC)CTG\\nHairpin 4: CCC(CCTGAAGGA)GGG\\nHairpin 5: CCC(CTGAAGGA)GGG\\nHairpin 6: CCC(TGAAGGA)GGG\\nHairpin 7: CCT(GAAGG)AGG\\n')\n",
            "GCAGGCAAGGCATTTCAGAACCCCCTGAAGGAGGGTGCCGACGTCATGACCGGCTCAACGCATAAAACATTTTTCGGTCCCCAGCGCGCGATTATTGCCAGTCGT\n",
            "(10, 'Hairpin 1: TCA(GAACCCCC)TGA\\nHairpin 2: CAG(AACCCC)CTG\\nHairpin 3: CCC(CCTGAAGGA)GGG\\nHairpin 4: CCC(CTGAAGGA)GGG\\nHairpin 5: CCC(TGAAGGA)GGG\\nHairpin 6: CCT(GAAGG)AGG\\nHairpin 7: TGA(CCGGC)TCA\\nHairpin 8: AAA(ACAT)TTT\\nHairpin 9: AAA(ACATT)TTT\\nHairpin 10: AAA(CATT)TTT\\n')\n",
            "GCATTTCAGAACCCCCTGAAGGAGGGTGCCGACGTCATGACCGGCTCAACGCATAAGACATTCTTTGGTCCGCAACGGGCTATCATTGCTAGCAGAAAAGAATTG\n",
            "(12, 'Hairpin 1: TCA(GAACCCCC)TGA\\nHairpin 2: CAG(AACCCC)CTG\\nHairpin 3: CCC(CCTGAAGGA)GGG\\nHairpin 4: CCC(CTGAAGGA)GGG\\nHairpin 5: CCC(TGAAGGA)GGG\\nHairpin 6: CCT(GAAGG)AGG\\nHairpin 7: TGA(CCGGC)TCA\\nHairpin 8: AAG(ACATT)CTT\\nHairpin 9: GAC(ATTCTTTG)GTC\\nHairpin 10: TTG(GTCCG)CAA\\nHairpin 11: GCT(ATCATTGCT)AGC\\nHairpin 12: CTA(TCATTGC)TAG\\n')\n",
            "AACCCCCTGAAGGAGGGTGCCGACGTCATGACCGGCTCAACGCATAAGACATTCTTCGGTCCTCAGCGGGCAATTATCGCAAGCCGTAAAGAATTGGCCGAAAAA\n",
            "(8, 'Hairpin 1: CCC(CCTGAAGGA)GGG\\nHairpin 2: CCC(CTGAAGGA)GGG\\nHairpin 3: CCC(TGAAGGA)GGG\\nHairpin 4: CCT(GAAGG)AGG\\nHairpin 5: TGA(CCGGC)TCA\\nHairpin 6: AAG(ACATT)CTT\\nHairpin 7: GAC(ATTCTTCG)GTC\\nHairpin 8: GCG(GGCAATTAT)CGC\\n')\n",
            "AAGGAGGGTGCCGACGTCATGACCGGCTCAACGCATAAGACATTCTTCGGTCCGCAACGTGCGATTATTGCATCACGCAAAGAGCTGGCGGAAAAAGTGGATCGT\n",
            "(9, 'Hairpin 1: TGA(CCGGC)TCA\\nHairpin 2: AAG(ACATT)CTT\\nHairpin 3: GAC(ATTCTTCG)GTC\\nHairpin 4: CGC(AACGT)GCG\\nHairpin 5: TGC(GATTATT)GCA\\nHairpin 6: GAT(TATTGC)ATC\\nHairpin 7: TTG(CATCACG)CAA\\nHairpin 8: TGC(ATCAC)GCA\\nHairpin 9: CGC(AAAGAGCTG)GCG\\n')\n",
            "GCCGACGTCATGACCGGCTCAACGCATAAGACATTCTTCGGTCCGCAACGTGCGATTATCGCGTCACGCAAAGAATTGGCGGAAAAAGTGGATCGCGCGGTTTTC\n",
            "(7, 'Hairpin 1: TGA(CCGGC)TCA\\nHairpin 2: AAG(ACATT)CTT\\nHairpin 3: GAC(ATTCTTCG)GTC\\nHairpin 4: CGC(AACGT)GCG\\nHairpin 5: GCG(ATTAT)CGC\\nHairpin 6: CGC(AAAGAATTG)GCG\\nHairpin 7: CAA(AGAA)TTG\\n')\n",
            "ATGACCGGCTCAACGCATAAGACATTCTTCGGTCCGCAACGTGCGATTATCGCATCGCGAAAAGAACTGGCCGAGAAAGTCGACCGCGCCGTTTTTCCGGGTGTC\n",
            "(12, 'Hairpin 1: TGA(CCGGC)TCA\\nHairpin 2: AAG(ACATT)CTT\\nHairpin 3: GAC(ATTCTTCG)GTC\\nHairpin 4: CGC(AACGT)GCG\\nHairpin 5: TGC(GATTATC)GCA\\nHairpin 6: GCG(ATTAT)CGC\\nHairpin 7: CGA(TTATCGCA)TCG\\nHairpin 8: GAT(TATCGC)ATC\\nHairpin 9: TCG(CATCG)CGA\\nHairpin 10: ACT(GGCCGAGAA)AGT\\nHairpin 11: CGA(GAAAG)TCG\\nHairpin 12: CCG(TTTTTC)CGG\\n')\n",
            "TCAACGCATAAGACATTCTTCGGTCCGCAACGTGCGATTATCGCATCGCGAAAGGAATTGGCTGAGAAAGTTGATCGCGCAGTGTTCCCCGGGGTTGTATCGAAC\n",
            "(9, 'Hairpin 1: AAG(ACATT)CTT\\nHairpin 2: GAC(ATTCTTCG)GTC\\nHairpin 3: CGC(AACGT)GCG\\nHairpin 4: TGC(GATTATC)GCA\\nHairpin 5: GCG(ATTAT)CGC\\nHairpin 6: CGA(TTATCGCA)TCG\\nHairpin 7: GAT(TATCGC)ATC\\nHairpin 8: TCG(CATCG)CGA\\nHairpin 9: GTT(GTATCG)AAC\\n')\n",
            "AAGACATTCTTCGGTCCGCAACGTGCGATTATCGCATCGCGAAAGGAATTGGCCGAAAAAGTGGATCGTGCCGTATTCCCGGGCGTCGTGTCTAACCATCACCTT\n",
            "(12, 'Hairpin 1: AAG(ACATT)CTT\\nHairpin 2: GAC(ATTCTTCG)GTC\\nHairpin 3: CGC(AACGT)GCG\\nHairpin 4: TGC(GATTATC)GCA\\nHairpin 5: GCG(ATTAT)CGC\\nHairpin 6: CGA(TTATCGCA)TCG\\nHairpin 7: GAT(TATCGC)ATC\\nHairpin 8: TCG(CATCG)CGA\\nHairpin 9: CGA(AAAAGTGGA)TCG\\nHairpin 10: GCC(GTATTCCCG)GGC\\nHairpin 11: CCG(TATTCC)CGG\\nHairpin 12: GTG(TCTAACCAT)CAC\\n')\n",
            "TTCGGTCCGCAACGTGCGATTATCGCATCGCGAAAGGAATTGGCCGAAAAAGTAGATCGTGCGGTGTTCCCTGGAGTTGTTTCAAATCATCACCTGAATACCCTG\n",
            "(8, 'Hairpin 1: CGC(AACGT)GCG\\nHairpin 2: TGC(GATTATC)GCA\\nHairpin 3: GCG(ATTAT)CGC\\nHairpin 4: CGA(TTATCGCA)TCG\\nHairpin 5: GAT(TATCGC)ATC\\nHairpin 6: TCG(CATCG)CGA\\nHairpin 7: CGA(AAAAGTAGA)TCG\\nHairpin 8: TCA(TCACC)TGA\\n')\n",
            "CAACGTGCGATTATCGCATCGCGAAAGGAATTGGCCGAAAAAGTAGATCGTGCGGTCTTTCCCGGTGTGGTCAGCAACCATCACTTGAATACTCTGGCAGGGTAT\n",
            "(12, 'Hairpin 1: TGC(GATTATC)GCA\\nHairpin 2: GCG(ATTAT)CGC\\nHairpin 3: CGA(TTATCGCA)TCG\\nHairpin 4: GAT(TATCGC)ATC\\nHairpin 5: TCG(CATCG)CGA\\nHairpin 6: CGA(AAAAGTAGA)TCG\\nHairpin 7: AGA(TCGTGCGG)TCT\\nHairpin 8: CGG(TCTTTC)CCG\\nHairpin 9: TGG(TCAGCAA)CCA\\nHairpin 10: GGT(CAGCA)ACC\\nHairpin 11: CAA(CCATCAC)TTG\\nHairpin 12: TAC(TCTGGCAGG)GTA\\n')\n",
            "ATTATCGCATCGCGAAAGGAATTGGCCGAAAAAGTAGATCGTGCGGTCTTTCCTGGCGTGGTTTCAAATCATCACCTGAATACGTTAGCGGGATATGTTGTGGCG\n",
            "(4, 'Hairpin 1: TCG(CATCG)CGA\\nHairpin 2: CGA(AAAAGTAGA)TCG\\nHairpin 3: AGA(TCGTGCGG)TCT\\nHairpin 4: TCA(TCACC)TGA\\n')\n",
            "TCGCGAAAGGAATTGGCCGAAAAAGTAGATCGTGCGGTCTTTCCTGGCGTGGTCAGCAACCACCATCTAAATACTCTAGCGGGCTACGTGGTCGCAGCTATGGAG\n",
            "(9, 'Hairpin 1: CGA(AAAAGTAGA)TCG\\nHairpin 2: AGA(TCGTGCGG)TCT\\nHairpin 3: CTG(GCGTGGT)CAG\\nHairpin 4: GTG(GTCAGCAAC)CAC\\nHairpin 5: TGG(TCAGCAA)CCA\\nHairpin 6: GGT(CAGCA)ACC\\nHairpin 7: GGT(CAGCAACC)ACC\\nHairpin 8: CTA(AATACTC)TAG\\nHairpin 9: TAG(CGGG)CTA\\n')\n",
            "GAATTGGCCGAAAAAGTAGATCGTGCGGTCTTTCCTGGCGTGGTCAGCAACCACCACTTAAATACGCTCGCAGGATATGTCGTCGCGGCAATGGAAATGTTAGAA\n",
            "(7, 'Hairpin 1: CGA(AAAAGTAGA)TCG\\nHairpin 2: AGA(TCGTGCGG)TCT\\nHairpin 3: CTG(GCGTGGT)CAG\\nHairpin 4: GTG(GTCAGCAAC)CAC\\nHairpin 5: TGG(TCAGCAA)CCA\\nHairpin 6: GGT(CAGCA)ACC\\nHairpin 7: GGT(CAGCAACC)ACC\\n')\n",
            "GAAAAAGTAGATCGTGCGGTCTTTCCTGGCGTGGTCAGCAACCACCACTTAAATACCCTGGCCGGCTATGTTGTGGCCGCAATGGAAATGTTAGAATTTGGTGAA\n",
            "(10, 'Hairpin 1: AGA(TCGTGCGG)TCT\\nHairpin 2: CTG(GCGTGGT)CAG\\nHairpin 3: GTG(GTCAGCAAC)CAC\\nHairpin 4: TGG(TCAGCAA)CCA\\nHairpin 5: GGT(CAGCA)ACC\\nHairpin 6: GGT(CAGCAACC)ACC\\nHairpin 7: GGC(TATGTTGTG)GCC\\nHairpin 8: TTG(TGGCCG)CAA\\nHairpin 9: AAA(TGTTAGAA)TTT\\nHairpin 10: AAT(GTTAGA)ATT\\n')\n",
            "GATCGTGCGGTCTTTCCTGGCGTGGTCAGCAACCACCACTTAAATACCCTGGCGGGCTATGTTGTTGCAGCTATGGAAATGCTGGAATTTGGTGAAGACTATGCC\n",
            "(9, 'Hairpin 1: CTG(GCGTGGT)CAG\\nHairpin 2: GTG(GTCAGCAAC)CAC\\nHairpin 3: TGG(TCAGCAA)CCA\\nHairpin 4: GGT(CAGCA)ACC\\nHairpin 5: GGT(CAGCAACC)ACC\\nHairpin 6: CCC(TGGC)GGG\\nHairpin 7: AGC(TATGGAAAT)GCT\\nHairpin 8: AAA(TGCTGGAA)TTT\\nHairpin 9: AAT(GCTGGA)ATT\\n')\n",
            "GTCTTTCCTGGCGTGGTCAGCAACCACCACTTAAATACCCTGGCGGGCTATGTCGTCGCCGCCATGGAAATGCTTGAGTTCGGAGAAGATTACGCAAAACAGGTC\n",
            "(9, 'Hairpin 1: CTG(GCGTGGT)CAG\\nHairpin 2: GTG(GTCAGCAAC)CAC\\nHairpin 3: TGG(TCAGCAA)CCA\\nHairpin 4: GGT(CAGCA)ACC\\nHairpin 5: GGT(CAGCAACC)ACC\\nHairpin 6: CCC(TGGC)GGG\\nHairpin 7: GGC(TATGTCGTC)GCC\\nHairpin 8: CAT(GGAA)ATG\\nHairpin 9: GAA(ATGCTTGAG)TTC\\n')\n",
            "GGCGTGGTCAGCAACCACCACTTAAATACCCTGGCGGGCTATGTCGTCGCCGCCATGGAAATGCTCGAATTTGGAGAGGATTATGCGAAACAAGTGGTTCGGAAC\n",
            "(14, 'Hairpin 1: GTG(GTCAGCAAC)CAC\\nHairpin 2: TGG(TCAGCAA)CCA\\nHairpin 3: GGT(CAGCA)ACC\\nHairpin 4: GGT(CAGCAACC)ACC\\nHairpin 5: CCC(TGGC)GGG\\nHairpin 6: GGC(TATGTCGTC)GCC\\nHairpin 7: CAT(GGAA)ATG\\nHairpin 8: AAA(TGCTCGAA)TTT\\nHairpin 9: AAT(GCTCGA)ATT\\nHairpin 10: CTC(GAATTTG)GAG\\nHairpin 11: CTC(GAATTTGGA)GAG\\nHairpin 12: AAT(TTGGAGAGG)ATT\\nHairpin 13: GAA(ACAAGTGG)TTC\\nHairpin 14: AAC(AAGTG)GTT\\n')\n",
            "AGCAACCACCACTTAAATACCCTGGCGGGCTATGTCGTCGCCGCCATGGAAATGTTGGAATTTGGTGAAGATTATGCGAAACAAGTAGTGCGCAATGCGAAGGCG\n",
            "(8, 'Hairpin 1: CCC(TGGC)GGG\\nHairpin 2: GGC(TATGTCGTC)GCC\\nHairpin 3: CCA(TGGAAATGT)TGG\\nHairpin 4: CAT(GGAA)ATG\\nHairpin 5: AAA(TGTTGGAA)TTT\\nHairpin 6: AAT(GTTGGA)ATT\\nHairpin 7: AAT(TTGGTGAAG)ATT\\nHairpin 8: CGC(AATGCGAAG)GCG\\n')\n",
            "CACTTAAATACCCTGGCGGGCTATGTCGTCGCCGCCATGGAAATGTTGGAATTTGGAGAGGACTATGCTAAACAAGTGGTCCGAAACGCGAAGGCGCTCGCCGAA\n",
            "(11, 'Hairpin 1: CCC(TGGC)GGG\\nHairpin 2: GGC(TATGTCGTC)GCC\\nHairpin 3: CCA(TGGAAATGT)TGG\\nHairpin 4: CAT(GGAA)ATG\\nHairpin 5: AAA(TGTTGGAA)TTT\\nHairpin 6: AAT(GTTGGA)ATT\\nHairpin 7: CGC(GAAG)GCG\\nHairpin 8: GCG(AAGG)CGC\\nHairpin 9: GCG(AAGGCGCT)CGC\\nHairpin 10: CGA(AGGCGC)TCG\\nHairpin 11: GGC(GCTC)GCC\\n')\n",
            "ACCCTGGCGGGCTATGTCGTCGCCGCCATGGAAATGTTGGAATTTGGAGAGGATTATGCTAAACAGGTCGTTCGCAACGCCAAAGCACTTGCGGAAGAACTGTAC\n",
            "(11, 'Hairpin 1: CCC(TGGC)GGG\\nHairpin 2: GGC(TATGTCGTC)GCC\\nHairpin 3: CCA(TGGAAATGT)TGG\\nHairpin 4: CAT(GGAA)ATG\\nHairpin 5: AAA(TGTTGGAA)TTT\\nHairpin 6: AAT(GTTGGA)ATT\\nHairpin 7: AAT(TTGGAGAGG)ATT\\nHairpin 8: AAC(AGGTC)GTT\\nHairpin 9: CGT(TCGCA)ACG\\nHairpin 10: CAA(AGCAC)TTG\\nHairpin 11: CTT(GCGG)AAG\\n')\n",
            "GGCTATGTCGTCGCCGCCATGGAAATGTTGGAATTTGGAGAGGATTATGCTAAACAAGTCGTCCGTAATGCAAAAGCGTTGGCCGAAGAACTCTATTCTCTGGGT\n",
            "(12, 'Hairpin 1: GGC(TATGTCGTC)GCC\\nHairpin 2: CCA(TGGAAATGT)TGG\\nHairpin 3: CAT(GGAA)ATG\\nHairpin 4: AAA(TGTTGGAA)TTT\\nHairpin 5: AAT(GTTGGA)ATT\\nHairpin 6: AAT(TTGGAGAGG)ATT\\nHairpin 7: CAA(AAGCG)TTG\\nHairpin 8: GTT(GGCCGAAG)AAC\\nHairpin 9: GAA(GAACTCTA)TTC\\nHairpin 10: AGA(ACTCTAT)TCT\\nHairpin 11: AGA(ACTCTATTC)TCT\\nHairpin 12: GAA(CTCTA)TTC\\n')\n",
            "GTCGCCGCCATGGAAATGTTGGAATTTGGAGAGGATTATGCTAAACAAGTCGTGCGTAACGCTAAAGCGTTAGCGGAAGAGCTGTACTCCTTAGGCTACAAGGTT\n",
            "(16, 'Hairpin 1: CCA(TGGAAATGT)TGG\\nHairpin 2: CAT(GGAA)ATG\\nHairpin 3: AAA(TGTTGGAA)TTT\\nHairpin 4: AAT(GTTGGA)ATT\\nHairpin 5: AAT(TTGGAGAGG)ATT\\nHairpin 6: CGT(GCGTA)ACG\\nHairpin 7: AAC(GCTAAAGC)GTT\\nHairpin 8: ACG(CTAAAG)CGT\\nHairpin 9: CGC(TAAA)GCG\\nHairpin 10: GCT(AAAGCGTT)AGC\\nHairpin 11: CTA(AAGCGT)TAG\\nHairpin 12: TAA(AGCG)TTA\\nHairpin 13: AGC(GGAAGA)GCT\\nHairpin 14: GAG(CTGTA)CTC\\nHairpin 15: CCT(TAGGCTACA)AGG\\nHairpin 16: CTT(AGGCTAC)AAG\\n')\n",
            "ATGGAAATGTTGGAATTTGGAGAGGATTATGCTAAACAAGTCGTGCGTAACGCAAAGGCCCTGGCGGAGGAACTGTATAGCTTAGGCTATAAAGTGCTGGGAGAG\n",
            "(11, 'Hairpin 1: AAA(TGTTGGAA)TTT\\nHairpin 2: AAT(GTTGGA)ATT\\nHairpin 3: AAT(TTGGAGAGG)ATT\\nHairpin 4: CGT(GCGTA)ACG\\nHairpin 5: TGC(GTAAC)GCA\\nHairpin 6: CCT(GGCGG)AGG\\nHairpin 7: ATA(GCTTAGGC)TAT\\nHairpin 8: TAG(CTTAGG)CTA\\nHairpin 9: AGC(TTAG)GCT\\nHairpin 10: CTT(AGGCTATA)AAG\\nHairpin 11: TTA(GGCTA)TAA\\n')\n",
            "TTGGAATTTGGAGAGGATTATGCTAAACAAGTCGTGCGTAACGCAAAGGCCCTGGCTGAGGAATTGTATAGCTTGGGTTATAAAGTGCTGGGCGAAAAACGCGGC\n",
            "(7, 'Hairpin 1: AAT(TTGGAGAGG)ATT\\nHairpin 2: CGT(GCGTA)ACG\\nHairpin 3: TGC(GTAAC)GCA\\nHairpin 4: CCT(GGCTG)AGG\\nHairpin 5: ATA(GCTTGGGT)TAT\\nHairpin 6: CTT(GGGTTATA)AAG\\nHairpin 7: GCG(AAAAA)CGC\\n')\n",
            "GGAGAGGATTATGCTAAACAAGTCGTGCGTAACGCAAAGGCCCTGGCTGAGGAGCTTTATTCCCTGGGGTACAAAGTGCTGGGTGAAAAACGTGGTTTCACCGAA\n",
            "(10, 'Hairpin 1: CGT(GCGTA)ACG\\nHairpin 2: TGC(GTAAC)GCA\\nHairpin 3: CCT(GGCTG)AGG\\nHairpin 4: GCT(GAGG)AGC\\nHairpin 5: GGA(GCTTTAT)TCC\\nHairpin 6: GAA(AAACGTGGT)TTC\\nHairpin 7: AAA(AACGTGG)TTT\\nHairpin 8: AAA(ACGTGG)TTT\\nHairpin 9: AAA(CGTGG)TTT\\nHairpin 10: GTG(GTTT)CAC\\n')\n",
            "TATGCTAAACAAGTCGTGCGTAACGCAAAGGCCCTGGCTGAGGAGCTTTATAGCTTGGGGTACAAAGTATTAGGAGAAAAACGAGGTTTTACAGAAACACATCAG\n",
            "(17, 'Hairpin 1: CGT(GCGTA)ACG\\nHairpin 2: TGC(GTAAC)GCA\\nHairpin 3: CCT(GGCTG)AGG\\nHairpin 4: GCT(GAGG)AGC\\nHairpin 5: AGC(TTTATA)GCT\\nHairpin 6: GCT(TTAT)AGC\\nHairpin 7: CTT(GGGGTACA)AAG\\nHairpin 8: TTG(GGGTA)CAA\\nHairpin 9: AAA(AACGAGG)TTT\\nHairpin 10: AAA(AACGAGGT)TTT\\nHairpin 11: AAA(ACGAGG)TTT\\nHairpin 12: AAA(ACGAGGT)TTT\\nHairpin 13: AAA(CGAGG)TTT\\nHairpin 14: AAA(CGAGGT)TTT\\nHairpin 15: GTT(TTACAGA)AAC\\nHairpin 16: TTT(TACAG)AAA\\nHairpin 17: TTT(ACAG)AAA\\n')\n",
            "CAAGTCGTGCGTAACGCAAAGGCCCTGGCTGAGGAGCTTTATAGCTTGGGGTATAAAGTACTGGGAGAGAAGCGCGGCTTCACGGAGACTCATCAGGTCGCGGTT\n",
            "(12, 'Hairpin 1: CGT(GCGTA)ACG\\nHairpin 2: TGC(GTAAC)GCA\\nHairpin 3: CCT(GGCTG)AGG\\nHairpin 4: GCT(GAGG)AGC\\nHairpin 5: AGC(TTTATA)GCT\\nHairpin 6: GCT(TTAT)AGC\\nHairpin 7: ATA(GCTTGGGG)TAT\\nHairpin 8: CTT(GGGGTATA)AAG\\nHairpin 9: GTA(TAAAG)TAC\\nHairpin 10: GAA(GCGCGGC)TTC\\nHairpin 11: AAG(CGCGG)CTT\\nHairpin 12: GAC(TCATCAG)GTC\\n')\n",
            "CGTAACGCAAAGGCCCTGGCTGAGGAGCTTTATAGCTTGGGGTATAAAGTACTGGGTGAAAAGCGTGGTTTCACTGAAACCCATCAGGTCGCGGTGGATGTTCGC\n",
            "(18, 'Hairpin 1: CCT(GGCTG)AGG\\nHairpin 2: GCT(GAGG)AGC\\nHairpin 3: AGC(TTTATA)GCT\\nHairpin 4: GCT(TTAT)AGC\\nHairpin 5: ATA(GCTTGGGG)TAT\\nHairpin 6: CTT(GGGGTATA)AAG\\nHairpin 7: GTA(TAAAG)TAC\\nHairpin 8: GAA(AAGCGTGGT)TTC\\nHairpin 9: AAA(AGCGTGG)TTT\\nHairpin 10: AAA(GCGTGG)TTT\\nHairpin 11: GTG(GTTT)CAC\\nHairpin 12: GGT(TTCACTGAA)ACC\\nHairpin 13: GTT(TCACTGA)AAC\\nHairpin 14: TTT(CACTG)AAA\\nHairpin 15: CTG(AAACCCAT)CAG\\nHairpin 16: TGA(AACCCA)TCA\\nHairpin 17: ACC(CATCA)GGT\\nHairpin 18: GCG(GTGGATGTT)CGC\\n')\n",
            "AAGGCCCTGGCTGAGGAGCTTTATAGCTTGGGGTATAAAGTACTGGGTGAAAAACGAGGCTTTACAGAAACTCATCAGGTTGCGGTGGACGTACGCGAGTTTGGA\n",
            "(13, 'Hairpin 1: CCT(GGCTG)AGG\\nHairpin 2: GCT(GAGG)AGC\\nHairpin 3: AGC(TTTATA)GCT\\nHairpin 4: GCT(TTAT)AGC\\nHairpin 5: ATA(GCTTGGGG)TAT\\nHairpin 6: CTT(GGGGTATA)AAG\\nHairpin 7: GTA(TAAAG)TAC\\nHairpin 8: AAA(AACGAGGC)TTT\\nHairpin 9: AAA(ACGAGGC)TTT\\nHairpin 10: AAA(CGAGGC)TTT\\nHairpin 11: TTT(ACAG)AAA\\nHairpin 12: AAC(TCATCAG)GTT\\nHairpin 13: GCG(GTGGACGTA)CGC\\n')\n",
            "GCTGAGGAGCTTTATAGCTTGGGGTATAAAGTACTGGGTGAAAAACGAGGCTTCACCGAAACGCATCAGGTGGCCGTAGACGTACGCGAGTTTGGCGGAGGCGAA\n",
            "(10, 'Hairpin 1: GCT(GAGG)AGC\\nHairpin 2: AGC(TTTATA)GCT\\nHairpin 3: GCT(TTAT)AGC\\nHairpin 4: ATA(GCTTGGGG)TAT\\nHairpin 5: CTT(GGGGTATA)AAG\\nHairpin 6: GTA(TAAAG)TAC\\nHairpin 7: GAA(AAACGAGGC)TTC\\nHairpin 8: CGT(AGACGT)ACG\\nHairpin 9: GTA(GACG)TAC\\nHairpin 10: CGC(GAGTTTG)GCG\\n')\n",
            "CTTTATAGCTTGGGGTATAAAGTACTGGGTGAAAAACGAGGCTTCACCGAAACTCACCAGGTAGCTGTGGATGTGCGCGAATTTGGGGGTGGTGAACGGGTCGCA\n",
            "(7, 'Hairpin 1: ATA(GCTTGGGG)TAT\\nHairpin 2: CTT(GGGGTATA)AAG\\nHairpin 3: GTA(TAAAG)TAC\\nHairpin 4: GAA(AAACGAGGC)TTC\\nHairpin 5: CAC(CAGGTAGCT)GTG\\nHairpin 6: CCA(GGTAGCTG)TGG\\nHairpin 7: CAG(GTAG)CTG\\n')\n",
            "TTGGGGTATAAAGTACTGGGTGAAAAACGAGGCTTCACCGAAACTCACCAGGTTGCCGTGGACGTGAGAGAATTTGGCGGTGGCGAGAGAGTTGCGAAAGTGCTG\n",
            "(5, 'Hairpin 1: GTA(TAAAG)TAC\\nHairpin 2: GAA(AAACGAGGC)TTC\\nHairpin 3: AAC(TCACCAG)GTT\\nHairpin 4: CAC(CAGGTTGCC)GTG\\nHairpin 5: CCA(GGTTGCCG)TGG\\n')\n",
            "AAAGTACTGGGTGAAAAACGAGGCTTCACCGAAACTCACCAGGTTGCCGTGGATGTACGTGAATTTGGTGGTGGGGAACGCGTGGCTAAAGTCCTGGAAAATGCG\n",
            "(5, 'Hairpin 1: GAA(AAACGAGGC)TTC\\nHairpin 2: AAC(TCACCAG)GTT\\nHairpin 3: CAC(CAGGTTGCC)GTG\\nHairpin 4: CCA(GGTTGCCG)TGG\\nHairpin 5: CGT(GGATGT)ACG\\n')\n",
            "GGTGAAAAACGAGGCTTCACCGAAACTCACCAGGTTGCCGTGGATGTACGTGAGTTTGGTGGTGGCGAGCGTGTAGCCAAAGTGCTGGAAAACGCCGGGATCATC\n",
            "(8, 'Hairpin 1: GAA(AAACGAGGC)TTC\\nHairpin 2: AAC(TCACCAG)GTT\\nHairpin 3: CAC(CAGGTTGCC)GTG\\nHairpin 4: CCA(GGTTGCCG)TGG\\nHairpin 5: CGT(GGATGT)ACG\\nHairpin 6: GGC(GAGCGTGTA)GCC\\nHairpin 7: AGC(CAAAGT)GCT\\nHairpin 8: CCA(AAGTGC)TGG\\n')\n",
            "CGAGGCTTCACCGAAACTCACCAGGTTGCCGTGGATGTACGTGAGTTTGGTGGTGGTGAAAGGGTCGCGAAAGTTCTCGAAAACGCGGGTATTATCCTGAATAAA\n",
            "(10, 'Hairpin 1: AAC(TCACCAG)GTT\\nHairpin 2: CAC(CAGGTTGCC)GTG\\nHairpin 3: CCA(GGTTGCCG)TGG\\nHairpin 4: CGT(GGATGT)ACG\\nHairpin 5: CGA(AAGTTC)TCG\\nHairpin 6: GTT(CTCGAA)AAC\\nHairpin 7: TAT(TATCCTGA)ATA\\nHairpin 8: ATT(ATCCTG)AAT\\nHairpin 9: TTA(TCCTGAA)TAA\\nHairpin 10: TAT(CCTGA)ATA\\n')\n",
            "ACCGAAACTCACCAGGTTGCCGTGGATGTACGTGAGTTTGGTGGTGGTGAACGTGTCGCTAAGGTTTTAGAAAACGCCGGCATTATCCTGAATAAAAATCTGCTG\n",
            "(11, 'Hairpin 1: AAC(TCACCAG)GTT\\nHairpin 2: CAC(CAGGTTGCC)GTG\\nHairpin 3: CCA(GGTTGCCG)TGG\\nHairpin 4: CGT(GGATGT)ACG\\nHairpin 5: CTA(AGGTTT)TAG\\nHairpin 6: TAA(GGTT)TTA\\nHairpin 7: GTT(TTAGAA)AAC\\nHairpin 8: TTT(TAGA)AAA\\nHairpin 9: ATT(ATCCTG)AAT\\nHairpin 10: TTA(TCCTGAA)TAA\\nHairpin 11: TAT(CCTGA)ATA\\n')\n",
            "CACCAGGTTGCCGTGGATGTACGTGAGTTTGGTGGTGGTGAACGTGTCGCTAAAGTCTTGGAGAATGCAGGAATCATTCTGAATAAAAACCTCCTGCCGTGGGAT\n",
            "(7, 'Hairpin 1: CAC(CAGGTTGCC)GTG\\nHairpin 2: CCA(GGTTGCCG)TGG\\nHairpin 3: CGT(GGATGT)ACG\\nHairpin 4: AAT(GCAGGAATC)ATT\\nHairpin 5: ATG(CAGGAAT)CAT\\nHairpin 6: CAG(GAATCATT)CTG\\nHairpin 7: TCC(TGCCGTG)GGA\\n')\n",
            "GCCGTGGATGTACGTGAGTTTGGTGGTGGTGAACGTGTCGCTAAAGTCTTGGAGAACGCAGGTATTATCCTAAACAAAAACCTTCTGCCGTGGGATTCTTTGGAA\n",
            "(3, 'Hairpin 1: CGT(GGATGT)ACG\\nHairpin 2: AGG(TATTAT)CCT\\nHairpin 3: TTC(TTTG)GAA\\n')\n",
            "GTACGTGAGTTTGGTGGTGGTGAACGTGTCGCTAAAGTCTTGGAGAACGCAGGCATTATTTTAAACAAGAACCTGCTGCCGTGGGACAGCCTGGAAAAAACAGCG\n",
            "(2, 'Hairpin 1: CTG(CCGTGGGA)CAG\\nHairpin 2: CTG(GAAAAAA)CAG\\n')\n",
            "TTTGGTGGTGGTGAACGTGTCGCTAAAGTCTTGGAGAACGCAGGCATTATTTTGAACAAGAACTTGCTGCCTTGGGACTCACTGGAAAAAACGGCGAATCCGTCT\n",
            "(3, 'Hairpin 1: CAA(GAAC)TTG\\nHairpin 2: ACG(GCGAATC)CGT\\nHairpin 3: CGG(CGAAT)CCG\\n')\n",
            "GGTGAACGTGTCGCTAAAGTCTTGGAGAACGCAGGCATTATTTTGAACAAGAATTTATTACCGTGGGATTCGCTCGAAAAAACTGCAAATCCGAGCGGTATCCGC\n",
            "(3, 'Hairpin 1: ATT(TTGAACAAG)AAT\\nHairpin 2: TTC(GCTC)GAA\\nHairpin 3: GCG(GTATC)CGC\\n')\n",
            "GTCGCTAAAGTCTTGGAGAACGCAGGCATTATTTTGAACAAGAATTTATTACCGTGGGACTCGCTCGAAAAGACGGCAAACCCGAGCGGCATACGAATTGGCGTT\n",
            "(3, 'Hairpin 1: ATT(TTGAACAAG)AAT\\nHairpin 2: CGG(CAAAC)CCG\\nHairpin 3: ACG(AATTGG)CGT\\n')\n",
            "GTCTTGGAGAACGCAGGCATTATTTTGAACAAGAATTTATTACCGTGGGACTCCTTAGAGAAAACAGCAAACCCCAGCGGCATTCGGATCGGCGTTCAGGAGGTA\n",
            "(2, 'Hairpin 1: ATT(TTGAACAAG)AAT\\nHairpin 2: CTC(CTTA)GAG\\n')\n",
            "AACGCAGGCATTATTTTGAACAAGAATTTATTACCGTGGGACTCCTTAGAGAAAACCGCGAACCCTTCTGGCATTCGTATAGGTGTGCAAGAAGTGACACGGATA\n",
            "(2, 'Hairpin 1: ATT(TTGAACAAG)AAT\\nHairpin 2: CTC(CTTA)GAG\\n')\n",
            "ATTATTTTGAACAAGAATTTATTACCGTGGGACTCCTTAGAGAAAACCGCGAATCCGAGTGGCATTCGGATTGGGGTGCAAGAGGTGACACGCATCGGGATGAAA\n",
            "(7, 'Hairpin 1: ATT(TTGAACAAG)AAT\\nHairpin 2: CTC(CTTA)GAG\\nHairpin 3: AAT(CCGAGTGGC)ATT\\nHairpin 4: CCG(AGTGGCATT)CGG\\nHairpin 5: CGA(GTGGCAT)TCG\\nHairpin 6: TTG(GGGTG)CAA\\nHairpin 7: CAT(CGGG)ATG\\n')\n",
            "AACAAGAATTTATTACCGTGGGACTCCTTAGAGAAAACCGCGAATCCGAGTGGTATCCGTATCGGGGTTCAAGAAGTTACGCGTATCGGTATGAAGGAAGAGGAA\n",
            "(2, 'Hairpin 1: CTC(CTTA)GAG\\nHairpin 2: TAC(GCGTATCG)GTA\\n')\n",
            "TTATTACCGTGGGACTCCTTAGAGAAAACCGCGAATCCGAGTGGTATCCGTATTGGCGTCCAGGAAGTAACCCGTATCGGCATGAAAGAAGAAGAGATGCGCGCA\n",
            "(1, 'Hairpin 1: CTC(CTTA)GAG\\n')\n",
            "TGGGACTCCTTAGAGAAAACCGCGAATCCGAGTGGTATCCGTATTGGCGTCCAGGAAGTGACTCGTATTGGCATGAAAGAGGAGGAAATGCGCGCGATCGCTGAG\n",
            "(4, 'Hairpin 1: CTC(CTTA)GAG\\nHairpin 2: GTC(CAGGAAGT)GAC\\nHairpin 3: GCG(CGCGAT)CGC\\nHairpin 4: GCG(CGAT)CGC\\n')\n",
            "TTAGAGAAAACCGCGAATCCGAGTGGTATCCGTATTGGCGTCCAGGAAGTGACTCGAATAGGGATGAAGGAAGAAGAGATGCGGGCGATAGCGGAGATTATGGAT\n",
            "(2, 'Hairpin 1: GTC(CAGGAAGT)GAC\\nHairpin 2: ATA(GCGGAGAT)TAT\\n')\n",
            "ACCGCGAATCCGAGTGGTATCCGTATTGGCGTCCAGGAAGTGACTCGAATAGGTATGAAAGAGGAAGAAATGAGAGCGATTGCAGAGATTATGGATGCCGCCATT\n",
            "(5, 'Hairpin 1: GTC(CAGGAAGT)GAC\\nHairpin 2: AAT(GAGAGCG)ATT\\nHairpin 3: ATG(GATGCCGC)CAT\\nHairpin 4: TGG(ATGCCG)CCA\\nHairpin 5: ATG(CCGC)CAT\\n')\n",
            "CCGAGTGGTATCCGTATTGGCGTCCAGGAAGTGACTCGAATAGGTATGAAAGAAGAAGAGATGCGTGCGATAGCGGAAATTATGGATGCAGCTATTAAAGAAAAG\n",
            "(2, 'Hairpin 1: GTC(CAGGAAGT)GAC\\nHairpin 2: ATA(GCGGAAAT)TAT\\n')\n",
            "ATCCGTATTGGCGTCCAGGAAGTGACTCGAATAGGTATGAAAGAAGAAGAGATGCGTGCTATAGCGGAAATCATGGACGCAGCGATCAAAGAGAAGAAATCAGTT\n",
            "(1, 'Hairpin 1: GTC(CAGGAAGT)GAC\\n')\n",
            "GGCGTCCAGGAAGTGACTCGAATAGGTATGAAAGAAGAAGAGATGCGTGCTATTGCGGAGATTATGGATGCCGCAATCAAAGAAAAGAAGAGTGTGGATGAACTG\n",
            "(3, 'Hairpin 1: GTC(CAGGAAGT)GAC\\nHairpin 2: GAT(GCCGCA)ATC\\nHairpin 3: AGT(GTGGATGA)ACT\\n')\n",
            "GAAGTGACTCGAATAGGTATGAAAGAAGAAGAGATGCGTGCTATTGCGGAGATCATGGACGCAGCGATCAAAGAAAAGAAAAGTGTGGATGAGTTACGGAACGAA\n",
            "(1, 'Hairpin 1: GTT(ACGG)AAC\\n')\n",
            "CGAATAGGTATGAAAGAAGAAGAGATGCGTGCTATTGCGGAGATCATGGACGCCGCAATTAAAGAGAAGAAAAGCGTGGATGAGCTGCGCAATGAGGTAAAAGAG\n",
            "(1, 'Hairpin 1: AGC(GTGGATGA)GCT\\n')\n",
            "ATGAAAGAAGAAGAGATGCGTGCTATTGCGGAGATCATGGACGCCGCAATTAAAGAGAAAAAGAGCGTGGATGAACTGCGCAACGAGGTGAAGGAGCTGAAGGAA\n",
            "(0, None)\n",
            "GAAGAGATGCGTGCTATTGCGGAGATCATGGACGCCGCAATTAAAGAGAAAAAAAGTGTAGATGAGCTGAGAAATGAAGTGAAAGAATTGAAAGAACGCTTTAAC\n",
            "(2, 'Hairpin 1: AAA(GAACGC)TTT\\nHairpin 2: AAG(AACG)CTT\\n')\n",
            "CGTGCTATTGCGGAGATCATGGACGCCGCAATTAAAGAGAAAAAAAGTGTAGATGAACTGCGCAATGAGGTTAAGGAATTGAAGGAGCGTTTTAATGTTATTAAG\n",
            "(3, 'Hairpin 1: AGT(GTAGATGA)ACT\\nHairpin 2: TTA(ATGTTAT)TAA\\nHairpin 3: TAA(TGTTA)TTA\\n')\n",
            "GCGGAGATCATGGACGCCGCAATTAAAGAGAAAAAAAGTGTAGATGAACTGCGTAACGAGGTGAAGGAACTTAAAGAGCGGTTCAATGTTATTAAATATTCGTTC\n",
            "(1, 'Hairpin 1: AGT(GTAGATGA)ACT\\n')\n",
            "ATGGACGCCGCAATTAAAGAGAAAAAAAGTGTAGATGAACTGCGTAACGAGGTAAAAGAACTCAAGGAGCGGTTCAACGTAATCAAATACTCGTTTGACGAAAGC\n",
            "(7, 'Hairpin 1: AGT(GTAGATGA)ACT\\nHairpin 2: GAG(GTAAAAGAA)CTC\\nHairpin 3: GTA(ATCAAA)TAC\\nHairpin 4: CAA(ATACTCGT)TTG\\nHairpin 5: AAA(TACTCG)TTT\\nHairpin 6: TCG(TTTGA)CGA\\nHairpin 7: TTT(GACG)AAA\\n')\n",
            "GCAATTAAAGAGAAAAAAAGTGTAGATGAACTGCGTAACGAGGTAAAAGAACTGAAGGAGCGCTTTAACGTAATTAAGTACTCGTTTGACGAGTCGGAAGCCTAC\n",
            "(8, 'Hairpin 1: AGT(GTAGATGA)ACT\\nHairpin 2: AAG(GAGCG)CTT\\nHairpin 3: TTA(ACGTAAT)TAA\\nHairpin 4: TAA(CGTAA)TTA\\nHairpin 5: GTA(ATTAAG)TAC\\nHairpin 6: ACT(CGTTTGACG)AGT\\nHairpin 7: CTC(GTTTGAC)GAG\\nHairpin 8: TCG(TTTGA)CGA\\n')\n",
            "GAGAAAAAAAGTGTAGATGAACTGCGTAACGAGGTAAAAGAACTGAAGGAGCGGTTTAATGTGATCAAGTACTCGTTCGATGAATCAGAGGCCTACCATTTCCCC\n",
            "(1, 'Hairpin 1: AGT(GTAGATGA)ACT\\n')\n",
            "AGTGTAGATGAACTGCGTAACGAGGTAAAAGAACTGAAGGAGCGGTTTAATGTAATCAAATATAGCTTCGATGAGTCTGAGGCGTACCATTTCCCAGATTTGCGT\n",
            "(2, 'Hairpin 1: AGT(GTAGATGA)ACT\\nHairpin 2: TTT(AATGTAATC)AAA\\n')\n",
            "GAACTGCGTAACGAGGTAAAAGAACTGAAGGAGCGGTTTAATGTAATCAAATATAGCTTCGACGAGTCAGAGGCATATCACTTTCCGGACCTGAGGTAA\n",
            "(1, 'Hairpin 1: TTT(AATGTAATC)AAA\\n')\n",
            "AACGAGGTAAAAGAACTGAAGGAGCGGTTTAATGTAATCAAATATAGCTTCGACGAGTCAGAGGCATACCATTTCCCGGATCTGCGTTAA\n",
            "(1, 'Hairpin 1: TTT(AATGTAATC)AAA\\n')\n",
            "AAAGAACTGAAGGAGCGGTTTAATGTAATCAAATATAGCTTCGACGAGTCAGAGGCATATCACTTCCCGGATTTGCGATAA\n",
            "(2, 'Hairpin 1: TTT(AATGTAATC)AAA\\nHairpin 2: ATC(ACTTCCCG)GAT\\n')\n",
            "AAGGAGCGGTTTAATGTAATCAAATATAGCTTCGACGAGTCAGAGGCATATCATTTTCCGGATCTGCGCTGA\n",
            "(2, 'Hairpin 1: TTT(AATGTAATC)AAA\\nHairpin 2: ATC(ATTTTCCG)GAT\\n')\n",
            "TTTAATGTAATCAAATATAGCTTCGACGAGTCAGAGGCATATCATTTTCCGGACCTGCGGTGA\n",
            "(2, 'Hairpin 1: TTT(AATGTAATC)AAA\\nHairpin 2: CCG(GACCTG)CGG\\n')\n",
            "ATCAAATATAGCTTCGACGAGTCAGAGGCATATCATTTTCCGGACCTGCGGTAA\n",
            "(1, 'Hairpin 1: CCG(GACCTG)CGG\\n')\n",
            "(89, 'Hairpin 1: TTC(AGATTATC)GAA\\nHairpin 2: CAG(TGCGCCG)CTG\\nHairpin 3: CCG(CTATG)CGG\\nHairpin 4: TTA(TGAAGGCTG)TAA\\nHairpin 5: AAT(CGATGGCC)ATT\\nHairpin 6: ACG(CCAA)CGT\\nHairpin 7: GCG(AATTTGGC)CGC\\nHairpin 8: GCG(TTCTT)CGC\\nHairpin 9: GAC(TAAC)GTC\\nHairpin 10: ATA(CCAT)TAT\\nHairpin 11: TCC(CTTGC)GGA\\nHairpin 12: CCT(TGCGG)AGG\\nHairpin 13: GAG(GCCATAT)CTC\\nHairpin 14: CAC(ACGACCGG)GTG\\nHairpin 15: CAC(GACCGG)GTG\\nHairpin 16: CGT(GGCTT)ACG\\nHairpin 17: ATT(ATCCGTTT)AAT\\nHairpin 18: TTA(TCCGTT)TAA\\nHairpin 19: TAT(CCGTTTA)ATA\\nHairpin 20: CGT(AGATGTCG)ACG\\nHairpin 21: TGT(CGACGAG)ACA\\nHairpin 22: GTC(GACGA)GAC\\nHairpin 23: CGC(AAAGTA)GCG\\nHairpin 24: GCG(GAACGCGAG)CGC\\nHairpin 25: AGC(GCCCTAA)GCT\\nHairpin 26: TAA(GCTGT)TTA\\nHairpin 27: AGG(CTCGA)CCT\\nHairpin 28: CCG(TCAAC)CGG\\nHairpin 29: ATT(CGAGA)AAT\\nHairpin 30: TCG(AGAAATCGC)CGA\\nHairpin 31: CGA(GAAA)TCG\\nHairpin 32: TCG(CCGA)CGA\\nHairpin 33: ACG(AAATAGGGG)CGT\\nHairpin 34: ATA(GGGGCG)TAT\\nHairpin 35: CGT(ATGTCATGT)ACG\\nHairpin 36: GTA(TGTCATG)TAC\\nHairpin 37: CAT(GTACG)ATG\\nHairpin 38: ATG(TACGATG)CAT\\nHairpin 39: GCA(TCACACG)TGC\\nHairpin 40: CTG(ATCG)CAG\\nHairpin 41: TCA(GAACCCCC)TGA\\nHairpin 42: CAG(AACCCC)CTG\\nHairpin 43: CCC(CCTGAAGGA)GGG\\nHairpin 44: CCC(CTGAAGGA)GGG\\nHairpin 45: CCC(TGAAGGA)GGG\\nHairpin 46: CCT(GAAGG)AGG\\nHairpin 47: TGA(CCGGC)TCA\\nHairpin 48: AAG(ACATT)CTT\\nHairpin 49: GAC(ATTCTTCG)GTC\\nHairpin 50: CGC(AACGT)GCG\\nHairpin 51: TGC(GATTATC)GCA\\nHairpin 52: GCG(ATTAT)CGC\\nHairpin 53: CGA(TTATCGCA)TCG\\nHairpin 54: GAT(TATCGC)ATC\\nHairpin 55: TCG(CATCG)CGA\\nHairpin 56: CGA(AAAAGTAGA)TCG\\nHairpin 57: AGA(TCGTGCGG)TCT\\nHairpin 58: CTG(GCGTGGT)CAG\\nHairpin 59: GTG(GTCAGCAAC)CAC\\nHairpin 60: TGG(TCAGCAA)CCA\\nHairpin 61: GGT(CAGCA)ACC\\nHairpin 62: GGT(CAGCAACC)ACC\\nHairpin 63: CCC(TGGC)GGG\\nHairpin 64: GGC(TATGTCGTC)GCC\\nHairpin 65: CCA(TGGAAATGT)TGG\\nHairpin 66: CAT(GGAA)ATG\\nHairpin 67: AAA(TGTTGGAA)TTT\\nHairpin 68: AAT(GTTGGA)ATT\\nHairpin 69: AAT(TTGGAGAGG)ATT\\nHairpin 70: CGT(GCGTA)ACG\\nHairpin 71: TGC(GTAAC)GCA\\nHairpin 72: CCT(GGCTG)AGG\\nHairpin 73: GCT(GAGG)AGC\\nHairpin 74: AGC(TTTATA)GCT\\nHairpin 75: GCT(TTAT)AGC\\nHairpin 76: ATA(GCTTGGGG)TAT\\nHairpin 77: CTT(GGGGTATA)AAG\\nHairpin 78: GTA(TAAAG)TAC\\nHairpin 79: GAA(AAACGAGGC)TTC\\nHairpin 80: AAC(TCACCAG)GTT\\nHairpin 81: CAC(CAGGTTGCC)GTG\\nHairpin 82: CCA(GGTTGCCG)TGG\\nHairpin 83: CGT(GGATGT)ACG\\nHairpin 84: ATT(TTGAACAAG)AAT\\nHairpin 85: CTC(CTTA)GAG\\nHairpin 86: GTC(CAGGAAGT)GAC\\nHairpin 87: AGT(GTAGATGA)ACT\\nHairpin 88: TTT(AATGTAATC)AAA\\nHairpin 89: CCG(GACCTG)CGG\\n')\n",
            "ATGAATCCTTCCGACGTGTTTCAGATTATCGAAGGCCACACTAAGCTGATGCGTGATAGTATACCCTTAATCGCTTCTGAAAACTTAACCAGCCTGTCAGTGCGCCGCTGCTATGTGTCGGATCTGGGCCACCGCTATGCGGAGGGACGTGTTGGCGAGCGTTTTTATGAAGGCTGTAAATATGTTGACCAGATTGAATCGATGGCCATTGAACTGACCCGGAAAATCTTTGAAGCCGAGCACGCCAACGTTCAACCGATTTCTGGCGTTGTAGCGAATTTGGCCGCGTTCTTCGCCCTGACTAACGTCGGAGATACCATTATGTCCATTTCTGTCCCTTGCGGAGGCCATATCTCACACGACCGGGTGAGTGCTGCGGGGTTGCGTGGCTTACGGGTTATTCATTATCCGTTTAATAGTGAAGAGATGAGCGTAGATGTCGACGAGACACGCAAAGTAGCGGAACGCGAGCGCCCTAAGCTGTTTATTTTAGGCTCGACCTTAATTCTATTCCGTCAACCGGTCAAAGAAATTCGAGAAATCGCCGACGAAATAGGGGCGTATGTCATGTACGATGCATCACACGTGCTGGGTCTGATCGCAGGCAAGGCATTTCAGAACCCCCTGAAGGAGGGTGCCGACGTCATGACCGGCTCAACGCATAAGACATTCTTCGGTCCGCAACGTGCGATTATCGCATCGCGAAAGGAATTGGCCGAAAAAGTAGATCGTGCGGTCTTTCCTGGCGTGGTCAGCAACCACCACTTAAATACCCTGGCGGGCTATGTCGTCGCCGCCATGGAAATGTTGGAATTTGGAGAGGATTATGCTAAACAAGTCGTGCGTAACGCAAAGGCCCTGGCTGAGGAGCTTTATAGCTTGGGGTATAAAGTACTGGGTGAAAAACGAGGCTTCACCGAAACTCACCAGGTTGCCGTGGATGTACGTGAGTTTGGTGGTGGTGAACGTGTCGCTAAAGTCTTGGAGAACGCAGGCATTATTTTGAACAAGAATTTATTACCGTGGGACTCCTTAGAGAAAACCGCGAATCCGAGTGGTATCCGTATTGGCGTCCAGGAAGTGACTCGAATAGGTATGAAAGAAGAAGAGATGCGTGCTATTGCGGAGATCATGGACGCCGCAATTAAAGAGAAAAAAAGTGTAGATGAACTGCGTAACGAGGTAAAAGAACTGAAGGAGCGGTTTAATGTAATCAAATATAGCTTCGACGAGTCAGAGGCATATCATTTTCCGGACCTGCGGTAA\n",
            "Transcript(rbs=RBSOption(utr=Seq('GGCAAAAATTGGTTACCTTACATCTCATCGAAAACACGGAGGAAGTATAG'), cds=Seq('ATGTCCTTGATTAACACCAAAATTAAACCTTTTAAAAACCAGGCATTCAAAAAC...TAA'), gene_name='b0605', first_six_aas='MSLINT'), peptide='MNPSDVFQIIEGHTKLMRDSIPLIASENLTSLSVRRCYVSDLGHRYAEGRVGERFYEGCKYVDQIESMAIELTRKIFEAEHANVQPISGVVANLAAFFALTNVGDTIMSISVPCGGHISHDRVSAAGLRGLRVIHYPFNSEEMSVDVDETRKVAERERPKLFILGSTLILFRQPVKEIREIADEIGAYVMYDASHVLGLIAGKAFQNPLKEGADVMTGSTHKTFFGPQRAIIASRKELAEKVDRAVFPGVVSNHHLNTLAGYVVAAMEMLEFGEDYAKQVVRNAKALAEELYSLGYKVLGEKRGFTETHQVAVDVREFGGGERVAKVLENAGIILNKNLLPWDSLEKTANPSGIRIGVQEVTRIGMKEEEMRAIAEIMDAAIKEKKSVDELRNEVKELKERFNVIKYSFDESEAYHFPDLR', codons=['ATG', 'AAT', 'CCT', 'TCC', 'GAC', 'GTG', 'TTT', 'CAG', 'ATT', 'ATC', 'GAA', 'GGC', 'CAC', 'ACT', 'AAG', 'CTG', 'ATG', 'CGT', 'GAT', 'AGT', 'ATA', 'CCC', 'TTA', 'ATC', 'GCT', 'TCT', 'GAA', 'AAC', 'TTA', 'ACC', 'AGC', 'CTG', 'TCA', 'GTG', 'CGC', 'CGC', 'TGC', 'TAT', 'GTG', 'TCG', 'GAT', 'CTG', 'GGC', 'CAC', 'CGC', 'TAT', 'GCG', 'GAG', 'GGA', 'CGT', 'GTT', 'GGC', 'GAG', 'CGT', 'TTT', 'TAT', 'GAA', 'GGC', 'TGT', 'AAA', 'TAT', 'GTT', 'GAC', 'CAG', 'ATT', 'GAA', 'TCG', 'ATG', 'GCC', 'ATT', 'GAA', 'CTG', 'ACC', 'CGG', 'AAA', 'ATC', 'TTT', 'GAA', 'GCC', 'GAG', 'CAC', 'GCC', 'AAC', 'GTT', 'CAA', 'CCG', 'ATT', 'TCT', 'GGC', 'GTT', 'GTA', 'GCG', 'AAT', 'TTG', 'GCC', 'GCG', 'TTC', 'TTC', 'GCC', 'CTG', 'ACT', 'AAC', 'GTC', 'GGA', 'GAT', 'ACC', 'ATT', 'ATG', 'TCC', 'ATT', 'TCT', 'GTC', 'CCT', 'TGC', 'GGA', 'GGC', 'CAT', 'ATC', 'TCA', 'CAC', 'GAC', 'CGG', 'GTG', 'AGT', 'GCT', 'GCG', 'GGG', 'TTG', 'CGT', 'GGC', 'TTA', 'CGG', 'GTT', 'ATT', 'CAT', 'TAT', 'CCG', 'TTT', 'AAT', 'AGT', 'GAA', 'GAG', 'ATG', 'AGC', 'GTA', 'GAT', 'GTC', 'GAC', 'GAG', 'ACA', 'CGC', 'AAA', 'GTA', 'GCG', 'GAA', 'CGC', 'GAG', 'CGC', 'CCT', 'AAG', 'CTG', 'TTT', 'ATT', 'TTA', 'GGC', 'TCG', 'ACC', 'TTA', 'ATT', 'CTA', 'TTC', 'CGT', 'CAA', 'CCG', 'GTC', 'AAA', 'GAA', 'ATT', 'CGA', 'GAA', 'ATC', 'GCC', 'GAC', 'GAA', 'ATA', 'GGG', 'GCG', 'TAT', 'GTC', 'ATG', 'TAC', 'GAT', 'GCA', 'TCA', 'CAC', 'GTG', 'CTG', 'GGT', 'CTG', 'ATC', 'GCA', 'GGC', 'AAG', 'GCA', 'TTT', 'CAG', 'AAC', 'CCC', 'CTG', 'AAG', 'GAG', 'GGT', 'GCC', 'GAC', 'GTC', 'ATG', 'ACC', 'GGC', 'TCA', 'ACG', 'CAT', 'AAG', 'ACA', 'TTC', 'TTC', 'GGT', 'CCG', 'CAA', 'CGT', 'GCG', 'ATT', 'ATC', 'GCA', 'TCG', 'CGA', 'AAG', 'GAA', 'TTG', 'GCC', 'GAA', 'AAA', 'GTA', 'GAT', 'CGT', 'GCG', 'GTC', 'TTT', 'CCT', 'GGC', 'GTG', 'GTC', 'AGC', 'AAC', 'CAC', 'CAC', 'TTA', 'AAT', 'ACC', 'CTG', 'GCG', 'GGC', 'TAT', 'GTC', 'GTC', 'GCC', 'GCC', 'ATG', 'GAA', 'ATG', 'TTG', 'GAA', 'TTT', 'GGA', 'GAG', 'GAT', 'TAT', 'GCT', 'AAA', 'CAA', 'GTC', 'GTG', 'CGT', 'AAC', 'GCA', 'AAG', 'GCC', 'CTG', 'GCT', 'GAG', 'GAG', 'CTT', 'TAT', 'AGC', 'TTG', 'GGG', 'TAT', 'AAA', 'GTA', 'CTG', 'GGT', 'GAA', 'AAA', 'CGA', 'GGC', 'TTC', 'ACC', 'GAA', 'ACT', 'CAC', 'CAG', 'GTT', 'GCC', 'GTG', 'GAT', 'GTA', 'CGT', 'GAG', 'TTT', 'GGT', 'GGT', 'GGT', 'GAA', 'CGT', 'GTC', 'GCT', 'AAA', 'GTC', 'TTG', 'GAG', 'AAC', 'GCA', 'GGC', 'ATT', 'ATT', 'TTG', 'AAC', 'AAG', 'AAT', 'TTA', 'TTA', 'CCG', 'TGG', 'GAC', 'TCC', 'TTA', 'GAG', 'AAA', 'ACC', 'GCG', 'AAT', 'CCG', 'AGT', 'GGT', 'ATC', 'CGT', 'ATT', 'GGC', 'GTC', 'CAG', 'GAA', 'GTG', 'ACT', 'CGA', 'ATA', 'GGT', 'ATG', 'AAA', 'GAA', 'GAA', 'GAG', 'ATG', 'CGT', 'GCT', 'ATT', 'GCG', 'GAG', 'ATC', 'ATG', 'GAC', 'GCC', 'GCA', 'ATT', 'AAA', 'GAG', 'AAA', 'AAA', 'AGT', 'GTA', 'GAT', 'GAA', 'CTG', 'CGT', 'AAC', 'GAG', 'GTA', 'AAA', 'GAA', 'CTG', 'AAG', 'GAG', 'CGG', 'TTT', 'AAT', 'GTA', 'ATC', 'AAA', 'TAT', 'AGC', 'TTC', 'GAC', 'GAG', 'TCA', 'GAG', 'GCA', 'TAT', 'CAT', 'TTT', 'CCG', 'GAC', 'CTG', 'CGG', 'TAA'])\n"
          ]
        }
      ]
    },
    {
      "cell_type": "code",
      "source": [
        "part = 'GAAAACGCCGGCATCATTCTCAACAAAAATCTTCTCCCTTGGGACTCACTGGAAAAGACCGCCAACCCGAGTGGCATCCGCATTGGCGTG'\n",
        "part[36:36+9]"
      ],
      "metadata": {
        "colab": {
          "base_uri": "https://localhost:8080/",
          "height": 36
        },
        "id": "ZwoPjQjjBX41",
        "outputId": "957f5a9f-8d10-496f-c60b-f20d41f0ed05"
      },
      "execution_count": 28,
      "outputs": [
        {
          "output_type": "execute_result",
          "data": {
            "text/plain": [
              "'CCTTGGGAC'"
            ],
            "application/vnd.google.colaboratory.intrinsic+json": {
              "type": "string"
            }
          },
          "metadata": {},
          "execution_count": 28
        }
      ]
    },
    {
      "cell_type": "code",
      "source": [
        "len(part)"
      ],
      "metadata": {
        "colab": {
          "base_uri": "https://localhost:8080/"
        },
        "id": "xd_bVFw8B7ig",
        "outputId": "2a2ae690-b565-44a7-cc1f-1377219684e3"
      },
      "execution_count": 29,
      "outputs": [
        {
          "output_type": "execute_result",
          "data": {
            "text/plain": [
              "90"
            ]
          },
          "metadata": {},
          "execution_count": 29
        }
      ]
    },
    {
      "cell_type": "code",
      "source": [
        "len('TTTCAGATAATCGAAGGCCACACTAAACTGATGCGCGATTCCAT')"
      ],
      "metadata": {
        "colab": {
          "base_uri": "https://localhost:8080/"
        },
        "id": "5xnbQGIp_6ld",
        "outputId": "8fefbdc9-cd05-49c2-ad92-dc7165981688"
      },
      "execution_count": 23,
      "outputs": [
        {
          "output_type": "execute_result",
          "data": {
            "text/plain": [
              "44"
            ]
          },
          "metadata": {},
          "execution_count": 23
        }
      ]
    },
    {
      "cell_type": "code",
      "source": [
        "len('TAAACCATTATCGCGAAGTTATGGAATTACACCGGAAACGCATTGAAGAGTCTGGCGCCTTCGATGAGG')"
      ],
      "metadata": {
        "colab": {
          "base_uri": "https://localhost:8080/"
        },
        "id": "s5HK6ua2i1J1",
        "outputId": "24f47e3c-2f68-4cc9-91da-b06f3475d3a0"
      },
      "execution_count": null,
      "outputs": [
        {
          "output_type": "execute_result",
          "data": {
            "text/plain": [
              "69"
            ]
          },
          "metadata": {},
          "execution_count": 9
        }
      ]
    },
    {
      "cell_type": "code",
      "source": [
        "from seq_utils.hairpin_counter import hairpin_counter\n",
        "hairpin_counter('CAAAAGGATTG')\n",
        "hairpin_counter('ATGCGGCGCGGCCTGGTTATCGTGGGTCATGGTAGTCAGTTGAACCATTATCGCGAAGTCATGGAATTACACCGCAAAAGGATTGAAGAGAGCGGAGCATTCGACGAAGTTAAGATAGCATTCGCGGCCAGAAAACGTCGTCCGATGCCAGATGAAGCTATACGAGAAATGAACTGTGATATTATCTACGTGGTTCCGCTTTTTATTTCCTACGGCCTGCATGTTACCGAAGACCTCCCCGACTTATTAGGCTTTCCACGGGGGCGCGGAATTAAGGAGGGAGAGTTTGAAGGTAAGAAGGTTGTGATTTGCGAACCGATTGGTGAGGACTATTTTGTGACCTATGCTATTTTAAACAGCGTCTTCCGGATTGGTCGTGACGGCAAGGGTGAGGAATAA')[0]"
      ],
      "metadata": {
        "colab": {
          "base_uri": "https://localhost:8080/"
        },
        "id": "FbEkYLSeB2hB",
        "outputId": "9ab2513a-e030-45f9-f5c1-cf919b95fe63"
      },
      "execution_count": null,
      "outputs": [
        {
          "output_type": "execute_result",
          "data": {
            "text/plain": [
              "4"
            ]
          },
          "metadata": {},
          "execution_count": 15
        }
      ]
    },
    {
      "cell_type": "markdown",
      "source": [
        "23\n",
        "True\n",
        "True\n",
        "(False, 0.11444652908067542, 10, 0.37092163144361295)"
      ],
      "metadata": {
        "id": "fW8axW4I8ztO"
      }
    },
    {
      "cell_type": "code",
      "source": [
        "from checkers.codon_checker import CodonChecker\n",
        "ls = ['ATG', 'AAA', 'TAT', 'ATC', 'GTG', 'GTG', 'ACT', 'GGG', 'GGT', 'GTA', 'ATG', 'TCC', 'GGA', 'CTG', 'GGC', 'AAA', 'GGC', 'ATT', 'ACC', 'GCG', 'GCG', 'TCT', 'ATT', 'GGG', 'CGC', 'CTG', 'TTC', 'GTG', 'GAT', 'ATG', 'GGC', 'TAC', 'CGT', 'GTG', 'ATT', 'CCG', 'ATT', 'AAA', 'ATT', 'GAC', 'CCC', 'TAC', 'ATT', 'AAC', 'ATT', 'GAC', 'GCT', 'GGC', 'ACC', 'ATG', 'AAC', 'CCG', 'TTC', 'CAG', 'CAT', 'GGT', 'GAG', 'GTG', 'TAC', 'GTT', 'TTG', 'AAA', 'GAT', 'GGT', 'ACT', 'GAA', 'GTG', 'GAC', 'TTA', 'GAC', 'CTG', 'GGG', 'CAT', 'TAT', 'GAA', 'CGT', 'TTT', 'ATT', 'GGT', 'GAG', 'GAA', 'GTG', 'ACG', 'GGG', 'GAC', 'CAC', 'AAT', 'ATC', 'ACT', 'ACC', 'GGT', 'AAA', 'ATT', 'TAT', 'AAG', 'CGT', 'GTG', 'ATT', 'GAA', 'AAG', 'GAA', 'CGT', 'AAG', 'GGT', 'GAC', 'TAT', 'CTG', 'GGG', 'CAA', 'ACT', 'GTT', 'CAG', 'ATC', 'ATC', 'CCA', 'CAC', 'GTC', 'ACT', 'GAT', 'GAG', 'ATT', 'AAA', 'AGT', 'TGG', 'ATT', 'CGA', 'CGC', 'GTG', 'GCA', 'AAG', 'GAG', 'AGT', 'AAT', 'GCC', 'GAA', 'ATA', 'TGC', 'TTA', 'GTT', 'GAA', 'ATT', 'GGT', 'GGT', 'ACC', 'GTG', 'GGA', 'GAT', 'ATC', 'GAG', 'GGC', 'ATG', 'CCG', 'TTT', 'CTG', 'GAA', 'GCG', 'ATA', 'CGT', 'CAG', 'ATG', 'CAT', 'AAC', 'GAA', 'GAG', 'AAG', 'GAA', 'GAA', 'GAT', 'TTT', 'GCG', 'TTG', 'GTT', 'CAT', 'GTG', 'ACC', 'TTG', 'GTG', 'CCC', 'TTA', 'GAC', 'GCC', 'GGT', 'GGG', 'GAA', 'CAG', 'AAA', 'ACG', 'AAA', 'CCG', 'ACC', 'CAG', 'CAC', 'AGC', 'GTA', 'AAG', 'GAA', 'CTG', 'CGC', 'GAA', 'CTG', 'GGC', 'CTG', 'CAT', 'CCG', 'GAT', 'GTT', 'ATC', 'GTG', 'GGC', 'CGG', 'TGT', 'AGT', 'GAA', 'CGA', 'TTA', 'AAA', 'CCG', 'GCA', 'ACC', 'AAA', 'AAG', 'AAA', 'ATT', 'GCG', 'CTG', 'TTC', 'TGT', 'GAT', 'GTC', 'CCG', 'GAA', 'GAA', 'GCG', 'GTT', 'ATT', 'AGC', 'AAT', 'GAA', 'GAC', 'GCC', 'GAG', 'GAT', 'ATC', 'TAC', 'GAG', 'GTA', 'CCA', 'CTG', 'ATT', 'TTC', 'AAA', 'CGG', 'GAG', 'AAA', 'CTC', 'GAT', 'GAA', 'TAC', 'CTT', 'ATG', 'CGG', 'AAA', 'CTG', 'AAC', 'CTG', 'CGA', 'GCT', 'AAA', 'GAG', 'TCG', 'CGC', 'AAA', 'GAG', 'TGG', 'GAA', 'GAA', 'ATG', 'GTG', 'AAA', 'AGG', 'ATG', 'AAA', 'ACG', 'CTG', 'TAT', 'GAA', 'GAA', 'GCC', 'AGC', 'ATC', 'GCG', 'ATA', 'GTG', 'GGA', 'AAG', 'TAT', 'GTG', 'GAC', 'GTG', 'CGC', 'GAT', 'GCC', 'TAC', 'CTG', 'TCA', 'ATC', 'AAA', 'GAG', 'GCG', 'CTG', 'AAA', 'CAT', 'GGG', 'GGT', 'ATT', 'GAA', 'GCC', 'GGT', 'TGT', 'AAA', 'GTG', 'AAT', 'ATT', 'GTA', 'TGG', 'GTG', 'GAT', 'TCT', 'GAA', 'GAT', 'TTG', 'GAA', 'AAC', 'GTC', 'GAC', 'GAC', 'TTT', 'ACC', 'CTG', 'GAC', 'ATT', 'GAT', 'GGT', 'ATT', 'CTC', 'GTG', 'CCT', 'GGG', 'GGT', 'TTT', 'GGG', 'GCA', 'AGA', 'GGT', 'GCG', 'GAA', 'GGT', 'AAA', 'ATA', 'CGT', 'GCC', 'ATC', 'GAG', 'TAC', 'GCG', 'CGG', 'GAA', 'AAT', 'GGC', 'GTG', 'CCG', 'TTT', 'TTA', 'GGG', 'ATT', 'TGC', 'TTT', 'GGT', 'TTT', 'CAG', 'TTA', 'GCG', 'GTC', 'ATT', 'GAA', 'TTT', 'GCC', 'CGT', 'AAT', 'GTA', 'GTT', 'GGG', 'TTT', 'AGT', 'GAG', 'GCC', 'AAC', 'AGC', 'ACA', 'GAA', 'CTC', 'GAT', 'GAA', 'AAC', 'ACC', 'CCC', 'CAT', 'CCC', 'GTT', 'ATT', 'GAT', 'CTG', 'CTT', 'CCG', 'GAA', 'CAA', 'AAA', 'GGT', 'ATC', 'GAC', 'GAA', 'ATG', 'GGT', 'GGC', 'ACG', 'ATG', 'CGT', 'CTG', 'GGG', 'GAT', 'ATC', 'GAA', 'GTG', 'ACA', 'ATT', 'AAG', 'CCG', 'GGA', 'ACG', 'ATA', 'GCG', 'CAC', 'AAA', 'CTG', 'TAT', 'GGC', 'TCG', 'GAA', 'AAG', 'GTC', 'GTT', 'GAA', 'CGC', 'CAC', 'CGC', 'CAT', 'CGT', 'TAT', 'GAA', 'GTC', 'AAT', 'CCG', 'GAG', 'TAC', 'ATC', 'GAA', 'AAA', 'ATT', 'GAG', 'TCA', 'AAA', 'GGC', 'CTG', 'GTG', 'TTC', 'AGC', 'GCG', 'TAT', 'TCA', 'GAT', 'GGC', 'GGA', 'CGG', 'CGT', 'ATG', 'GAA', 'ATT', 'GCT', 'GAA', 'CTT', 'CCC', 'GAC', 'CAT', 'CCG', 'TTT', 'TTC', 'TTC', 'GCG', 'ACC', 'CAG', 'TTT', 'CAT', 'CCG', 'GAA', 'TTT', 'AAA', 'AGC', 'CGT', 'CCG', 'TAT', 'CGC', 'CCT', 'TCG', 'CCA', 'CCG', 'TTC', 'GTT', 'GGC', 'TTT', 'GTT', 'CGC', 'GCG', 'GCT', 'TTA', 'AAG', 'TAT', 'CGG', 'CGT', 'GAA', 'GAA', 'GAA', 'ATT', 'TGA']\n",
        "cod = CodonChecker()\n",
        "cod.initiate()\n",
        "cod.run(ls[250:300])"
      ],
      "metadata": {
        "colab": {
          "base_uri": "https://localhost:8080/"
        },
        "id": "jZQpdL5YkHQz",
        "outputId": "ecd24cd8-c2b3-4b5f-fdea-9ec12519969f"
      },
      "execution_count": null,
      "outputs": [
        {
          "output_type": "execute_result",
          "data": {
            "text/plain": [
              "(True, 0.56, 3, 0.36712989418840836)"
            ]
          },
          "metadata": {},
          "execution_count": 19
        }
      ]
    },
    {
      "cell_type": "code",
      "source": [
        "%load_ext autoreload\n",
        "%autoreload 2\n",
        "!python /content/drive/MyDrive/VSCode/Genetic_Frame/UCB_BioE134_GeneDesign/tests/benchmarking/proteome_benchmarker.py"
      ],
      "metadata": {
        "colab": {
          "base_uri": "https://localhost:8080/"
        },
        "id": "YrWRBQWYCY4L",
        "outputId": "d61a491c-1080-4216-f27b-40f3fc6cebe8"
      },
      "execution_count": 17,
      "outputs": [
        {
          "output_type": "stream",
          "name": "stdout",
          "text": [
            "Processing gene: glyA with protein sequence: MNPSDVFQIIEGHTKLMRDSIPLIASENLT...\n",
            "(52, 'Hairpin 1: ATC(CGAGC)GAT\\nHairpin 2: ATT(GCTTCCGAG)AAT\\nHairpin 3: GCT(GTTATGTG)AGC\\nHairpin 4: CGC(GTCGGTGA)GCG\\nHairpin 5: GAT(CAGATCGA)ATC\\nHairpin 6: CCG(ATTAG)CGG\\nHairpin 7: TGG(CGATA)CCA\\nHairpin 8: ATA(CCAT)TAT\\nHairpin 9: ATT(ATGTC)AAT\\nHairpin 10: TAT(GTCA)ATA\\nHairpin 11: GCC(GTGTGGT)GGC\\nHairpin 12: CAT(ATCAGTC)ATG\\nHairpin 13: TCA(GTCA)TGA\\nHairpin 14: GGT(GATCCACT)ACC\\nHairpin 15: TAA(ATTGT)TTA\\nHairpin 16: CCG(CCAGC)CGG\\nHairpin 17: CGA(TGCG)TCG\\nHairpin 18: CGC(TAAAAGAAG)GCG\\nHairpin 19: GGC(CCCCAACGT)GCC\\nHairpin 20: CCG(TTTTCC)CGG\\nHairpin 21: AGC(GATGGAGAT)GCT\\nHairpin 22: ATA(GCCTGGGG)TAT\\nHairpin 23: TTC(TCGGT)GAA\\nHairpin 24: GAA(AAACGTGGT)TTC\\nHairpin 25: AAA(AACGTGG)TTT\\nHairpin 26: AAA(ACGTGG)TTT\\nHairpin 27: AAA(CGTGG)TTT\\nHairpin 28: GTG(GTTT)CAC\\nHairpin 29: GGT(TTCACCGAA)ACC\\nHairpin 30: GTT(TCACCGA)AAC\\nHairpin 31: TTT(CACCG)AAA\\nHairpin 32: AAC(CCACCAG)GTT\\nHairpin 33: ACC(CACCA)GGT\\nHairpin 34: AAT(GCGGGT)ATT\\nHairpin 35: CAT(CGGA)ATG\\nHairpin 36: AGA(GAAAAAG)TCT\\nHairpin 37: AGA(AAAAG)TCT\\nHairpin 38: GTC(TGTC)GAC\\nHairpin 39: ACG(AGCTG)CGT\\nHairpin 40: TAA(TGAGG)TTA\\nHairpin 41: GTT(AAAG)AAC\\nHairpin 42: AAC(TGAAAGAAC)GTT\\nHairpin 43: AAA(GAACG)TTT\\nHairpin 44: AAA(GAACGT)TTT\\nHairpin 45: AAC(GTTTTAAC)GTT\\nHairpin 46: ACG(TTTTAA)CGT\\nHairpin 47: CGT(TTTA)ACG\\nHairpin 48: CAA(GTACAGTT)TTG\\nHairpin 49: TTT(TGACG)AAA\\nHairpin 50: TTT(GACG)AAA\\nHairpin 51: ACG(AAAGCGAAG)CGT\\nHairpin 52: ATC(ATTTTCCG)GAT\\n')\n",
            "ATGAATCCGAGCGATGTCTTTCAAATTATCGAGGGTCACACCAAACTCATGCGCGATTCTATTCCTCTGATTGCTTCCGAGAATCTGACAAGTCTTTCCGTTCGCCGCTGTTATGTGAGCGATTTGGGCCACCGCTATGCTGAGGGACGCGTCGGTGAGCGTTTTTATGAAGGTTGCAAATATGTAGATCAGATCGAATCCATGGCCATCGAACTGACACGGAAAATCTTTGAAGCGGAACATGCCAACGTCCAGCCGATTAGCGGTGTGGTTGCCAATTTAGCCGCCTTCTTTGCCCTTACTAATGTTGGCGATACCATTATGTCAATATCTGTGCCGTGTGGTGGCCATATCAGTCATGACCGTGTTTCTGCTGCTGGACTGCGTGGGCTGCGGGTGATCCACTACCCATTTAACAGTGAAGAAATGAGTGTTGATGTGGATGAAACTCGTAAGGTGGCGGAACGTGAACGACCTAAATTGTTTATCTTGGGTTCTACGCTGATTTTGTTCCGCCAGCCGGTCAAAGAAATTCGTGAGATAGCGGATGAAATCGGTGCTTATGTGATGTACGATGCGTCGCACGTGTTAGGACTGATCGCGGGTAAGGCTTTTCAGAACCCGCTAAAAGAAGGCGCTGACGTAATGACTGGCTCGACACATAAGACCTTTTTCGGCCCCCAACGTGCCATTATTGCGAGTAGGAAAGAGTTGGCAGAAAAAGTGGATCGCGCCGTTTTCCCGGGTGTAGTATCGAACCACCACTTGAACACACTGGCAGGCTATGTAGTTGCAGCGATGGAGATGCTGGAATTTGGTGAAGACTACGCAAAACAGGTGGTGCGCAATGCGAAAGCCCTGGCGGAAGAACTATATAGCCTGGGGTATAAAGTTCTCGGTGAAAAACGTGGTTTCACCGAAACCCACCAGGTTGCAGTAGATGTCCGCGAGTTTGGTGGAGGCGAACGTGTTGCTAAGGTACTGGAAAATGCGGGTATTATCCTGAACAAAAATCTCTTACCGTGGGATAGTCTGGAAAAAACCGCGAATCCGAGTGGCATCCGCATCGGTGTTCAAGAAGTCACTCGCATCGGAATGAAAGAAGAGGAAATGAGGGCTATCGCGGAAATCATGGATGCCGCTATTAAAGAGAAAAAGTCTGTCGACGAGCTGCGTAATGAGGTTAAAGAACTGAAAGAACGTTTTAACGTTATCAAGTACAGTTTTGACGAAAGCGAAGCGTATCATTTTCCGGATCTGCGTTAA\n",
            "['ATG', 'AAT', 'CCG', 'AGC', 'GAT', 'GTC', 'TTT', 'CAA', 'ATT', 'ATC', 'GAG', 'GGT', 'CAC', 'ACC', 'AAA', 'CTC', 'ATG', 'CGC', 'GAT', 'TCT', 'ATT', 'CCT', 'CTG', 'ATT', 'GCT', 'TCC', 'GAG', 'AAT', 'CTG', 'ACA', 'AGT', 'CTT', 'TCC', 'GTT', 'CGC', 'CGC', 'TGT', 'TAT', 'GTG', 'AGC', 'GAT', 'TTG', 'GGC', 'CAC', 'CGC', 'TAT', 'GCT', 'GAG', 'GGA', 'CGC', 'GTC', 'GGT', 'GAG', 'CGT', 'TTT', 'TAT', 'GAA', 'GGT', 'TGC', 'AAA', 'TAT', 'GTA', 'GAT', 'CAG', 'ATC', 'GAA', 'TCC', 'ATG', 'GCC', 'ATC', 'GAA', 'CTG', 'ACA', 'CGG', 'AAA', 'ATC', 'TTT', 'GAA', 'GCG', 'GAA', 'CAT', 'GCC', 'AAC', 'GTC', 'CAG', 'CCG', 'ATT', 'AGC', 'GGT', 'GTG', 'GTT', 'GCC', 'AAT', 'TTA', 'GCC', 'GCC', 'TTC', 'TTT', 'GCC', 'CTT', 'ACT', 'AAT', 'GTT', 'GGC', 'GAT', 'ACC', 'ATT', 'ATG', 'TCA', 'ATA', 'TCT', 'GTG', 'CCG', 'TGT', 'GGT', 'GGC', 'CAT', 'ATC', 'AGT', 'CAT', 'GAC', 'CGT', 'GTT', 'TCT', 'GCT', 'GCT', 'GGA', 'CTG', 'CGT', 'GGG', 'CTG', 'CGG', 'GTG', 'ATC', 'CAC', 'TAC', 'CCA', 'TTT', 'AAC', 'AGT', 'GAA', 'GAA', 'ATG', 'AGT', 'GTT', 'GAT', 'GTG', 'GAT', 'GAA', 'ACT', 'CGT', 'AAG', 'GTG', 'GCG', 'GAA', 'CGT', 'GAA', 'CGA', 'CCT', 'AAA', 'TTG', 'TTT', 'ATC', 'TTG', 'GGT', 'TCT', 'ACG', 'CTG', 'ATT', 'TTG', 'TTC', 'CGC', 'CAG', 'CCG', 'GTC', 'AAA', 'GAA', 'ATT', 'CGT', 'GAG', 'ATA', 'GCG', 'GAT', 'GAA', 'ATC', 'GGT', 'GCT', 'TAT', 'GTG', 'ATG', 'TAC', 'GAT', 'GCG', 'TCG', 'CAC', 'GTG', 'TTA', 'GGA', 'CTG', 'ATC', 'GCG', 'GGT', 'AAG', 'GCT', 'TTT', 'CAG', 'AAC', 'CCG', 'CTA', 'AAA', 'GAA', 'GGC', 'GCT', 'GAC', 'GTA', 'ATG', 'ACT', 'GGC', 'TCG', 'ACA', 'CAT', 'AAG', 'ACC', 'TTT', 'TTC', 'GGC', 'CCC', 'CAA', 'CGT', 'GCC', 'ATT', 'ATT', 'GCG', 'AGT', 'AGG', 'AAA', 'GAG', 'TTG', 'GCA', 'GAA', 'AAA', 'GTG', 'GAT', 'CGC', 'GCC', 'GTT', 'TTC', 'CCG', 'GGT', 'GTA', 'GTA', 'TCG', 'AAC', 'CAC', 'CAC', 'TTG', 'AAC', 'ACA', 'CTG', 'GCA', 'GGC', 'TAT', 'GTA', 'GTT', 'GCA', 'GCG', 'ATG', 'GAG', 'ATG', 'CTG', 'GAA', 'TTT', 'GGT', 'GAA', 'GAC', 'TAC', 'GCA', 'AAA', 'CAG', 'GTG', 'GTG', 'CGC', 'AAT', 'GCG', 'AAA', 'GCC', 'CTG', 'GCG', 'GAA', 'GAA', 'CTA', 'TAT', 'AGC', 'CTG', 'GGG', 'TAT', 'AAA', 'GTT', 'CTC', 'GGT', 'GAA', 'AAA', 'CGT', 'GGT', 'TTC', 'ACC', 'GAA', 'ACC', 'CAC', 'CAG', 'GTT', 'GCA', 'GTA', 'GAT', 'GTC', 'CGC', 'GAG', 'TTT', 'GGT', 'GGA', 'GGC', 'GAA', 'CGT', 'GTT', 'GCT', 'AAG', 'GTA', 'CTG', 'GAA', 'AAT', 'GCG', 'GGT', 'ATT', 'ATC', 'CTG', 'AAC', 'AAA', 'AAT', 'CTC', 'TTA', 'CCG', 'TGG', 'GAT', 'AGT', 'CTG', 'GAA', 'AAA', 'ACC', 'GCG', 'AAT', 'CCG', 'AGT', 'GGC', 'ATC', 'CGC', 'ATC', 'GGT', 'GTT', 'CAA', 'GAA', 'GTC', 'ACT', 'CGC', 'ATC', 'GGA', 'ATG', 'AAA', 'GAA', 'GAG', 'GAA', 'ATG', 'AGG', 'GCT', 'ATC', 'GCG', 'GAA', 'ATC', 'ATG', 'GAT', 'GCC', 'GCT', 'ATT', 'AAA', 'GAG', 'AAA', 'AAG', 'TCT', 'GTC', 'GAC', 'GAG', 'CTG', 'CGT', 'AAT', 'GAG', 'GTT', 'AAA', 'GAA', 'CTG', 'AAA', 'GAA', 'CGT', 'TTT', 'AAC', 'GTT', 'ATC', 'AAG', 'TAC', 'AGT', 'TTT', 'GAC', 'GAA', 'AGC', 'GAA', 'GCG', 'TAT', 'CAT', 'TTT', 'CCG', 'GAT', 'CTG', 'CGT', 'TAA']\n",
            "Processing gene: pyrG with protein sequence: MKYIVVTGGVMSGLGKGITAASIGRLFVDM...\n",
            "(25, 'Hairpin 1: ACG(GGCGG)CGT\\nHairpin 2: GGC(TTCCATTG)GCC\\nHairpin 3: ATT(CCAATTAA)AAT\\nHairpin 4: GAA(TCCG)TTC\\nHairpin 5: TCT(GGGCC)AGA\\nHairpin 6: GAC(GAAATTAA)GTC\\nHairpin 7: TCT(GCTTAGTGG)AGA\\nHairpin 8: CAT(CGAAGGT)ATG\\nHairpin 9: GAA(GAGGAT)TTC\\nHairpin 10: CAT(CCGG)ATG\\nHairpin 11: CGC(TGTTCT)GCG\\nHairpin 12: TTC(AAACGGGA)GAA\\nHairpin 13: TCT(GTATGA)AGA\\nHairpin 14: AAT(GTGGACG)ATT\\nHairpin 15: ATA(CGCGC)TAT\\nHairpin 16: ATT(TGCGCGT)AAT\\nHairpin 17: ATC(CAGTCATT)GAT\\nHairpin 18: CAT(CGATGAA)ATG\\nHairpin 19: TGA(TATTGAAG)TCA\\nHairpin 20: AAC(TCTACG)GTT\\nHairpin 21: GTT(ACGAAGTG)AAC\\nHairpin 22: CTG(GTATT)CAG\\nHairpin 23: TGA(ACTGCCGGA)TCA\\nHairpin 24: CCA(TTTGT)TGG\\nHairpin 25: AGA(AGAAA)TCT\\n')\n",
            "ATGAAATATATAGTTGTGACGGGCGGCGTAATGTCTGGTCTGGGCAAAGGTATTACTGCGGCTTCCATTGGCCGTCTGTTTGTTGATATGGGATACCGCGTGATTCCAATTAAAATCGACCCGTACATCAACATCGACGCAGGCACCATGAATCCGTTCCAGCATGGTGAGGTGTACGTATTAAAGGATGGCACCGAAGTCGATTTGGATTTGGGACATTATGAACGTTTTATTGGGGAAGAAGTTACCGGCGACCATAATATCACTACCGGAAAAATTTACAAGCGGGTCATCGAGAAAGAACGGAAAGGCGACTATCTGGGCCAGACCGTACAAATTATCCCGCATGTTACCGACGAAATTAAGTCCTGGATTCGTCGCGTGGCAAAAGAAAGCAACGCCGAAATCTGCTTAGTGGAGATTGGCGGTACCGTTGGTGACATCGAAGGTATGCCGTTTCTGGAAGCGATACGGCAAATGCATAACGAAGAGAAGGAAGAGGATTTCGCGCTGGTTCATGTTACACTGGTGCCTCTTGATGCCGGCGGCGAACAGAAAACCAAACCGACCCAGCACTCAGTGAAAGAATTACGCGAACTGGGCTTGCATCCGGATGTTATCGTAGGGCGTTGTTCGGAGCGATTAAAACCTGCGACGAAAAAGAAAATTGCGCTGTTCTGCGATGTGCCCGAGGAAGCTGTCATTAGTAACGAGGACGCTGAAGATATCTATGAAGTACCACTGATATTCAAACGGGAGAAGCTGGACGAATACCTGATGCGCAAGCTGAACCTACGCGCCAAAGAAAGTAGGAAAGAATGGGAGGAAATGGTGAAACGAATGAAGACTCTGTATGAAGAAGCTAGCATCGCGATCGTCGGTAAATATGTGGATGTGAGAGATGCGTACCTGTCCATTAAAGAAGCTCTGAAACATGGGGGTATCGAAGCGGGCTGCAAAGTTAATATCGTTTGGGTGGACTCTGAAGACCTGGAGAATGTGGACGATTTTACCCTGGACATCGATGGAATTTTGGTACCGGGAGGATTTGGGGCCCGCGGAGCAGAGGGCAAAATACGCGCTATCGAATACGCGCGTGAGAATGGTGTCCCGTTCTTAGGCATTTGCTTCGGCTTCCAACTGGCAGTCATTGAATTTGCGCGTAATGTGGTTGGGTTTAGCGAAGCGAACAGCACGGAATTGGACGAGAACACGCCACATCCAGTCATTGATTTGTTACCGGAGCAGAAAGGCATCGATGAAATGGGGGGGACGATGAGACTGGGTGATATTGAAGTCACTATTAAACCGGGTACCATTGCGCATAAACTCTACGGTTCCGAAAAAGTTGTTGAGCGGCATAGACATCGTTACGAAGTGAACCCGGAATACATAGAAAAAATTGAATCAAAAGGCCTGGTATTCAGCGCCTATTCAGATGGGGGCCGTCGGATGGAAATTGCTGAACTGCCGGATCATCCTTTTTTCTTTGCAACGCAGTTTCATCCGGAGTTCAAGTCACGTCCCTATCGCCCTTCCCCGCCATTTGTTGGTTTCGTGCGTGCCGCCCTGAAATACCGCCGCGAAGAAGAAATCTAA\n",
            "['ATG', 'AAA', 'TAT', 'ATA', 'GTT', 'GTG', 'ACG', 'GGC', 'GGC', 'GTA', 'ATG', 'TCT', 'GGT', 'CTG', 'GGC', 'AAA', 'GGT', 'ATT', 'ACT', 'GCG', 'GCT', 'TCC', 'ATT', 'GGC', 'CGT', 'CTG', 'TTT', 'GTT', 'GAT', 'ATG', 'GGA', 'TAC', 'CGC', 'GTG', 'ATT', 'CCA', 'ATT', 'AAA', 'ATC', 'GAC', 'CCG', 'TAC', 'ATC', 'AAC', 'ATC', 'GAC', 'GCA', 'GGC', 'ACC', 'ATG', 'AAT', 'CCG', 'TTC', 'CAG', 'CAT', 'GGT', 'GAG', 'GTG', 'TAC', 'GTA', 'TTA', 'AAG', 'GAT', 'GGC', 'ACC', 'GAA', 'GTC', 'GAT', 'TTG', 'GAT', 'TTG', 'GGA', 'CAT', 'TAT', 'GAA', 'CGT', 'TTT', 'ATT', 'GGG', 'GAA', 'GAA', 'GTT', 'ACC', 'GGC', 'GAC', 'CAT', 'AAT', 'ATC', 'ACT', 'ACC', 'GGA', 'AAA', 'ATT', 'TAC', 'AAG', 'CGG', 'GTC', 'ATC', 'GAG', 'AAA', 'GAA', 'CGG', 'AAA', 'GGC', 'GAC', 'TAT', 'CTG', 'GGC', 'CAG', 'ACC', 'GTA', 'CAA', 'ATT', 'ATC', 'CCG', 'CAT', 'GTT', 'ACC', 'GAC', 'GAA', 'ATT', 'AAG', 'TCC', 'TGG', 'ATT', 'CGT', 'CGC', 'GTG', 'GCA', 'AAA', 'GAA', 'AGC', 'AAC', 'GCC', 'GAA', 'ATC', 'TGC', 'TTA', 'GTG', 'GAG', 'ATT', 'GGC', 'GGT', 'ACC', 'GTT', 'GGT', 'GAC', 'ATC', 'GAA', 'GGT', 'ATG', 'CCG', 'TTT', 'CTG', 'GAA', 'GCG', 'ATA', 'CGG', 'CAA', 'ATG', 'CAT', 'AAC', 'GAA', 'GAG', 'AAG', 'GAA', 'GAG', 'GAT', 'TTC', 'GCG', 'CTG', 'GTT', 'CAT', 'GTT', 'ACA', 'CTG', 'GTG', 'CCT', 'CTT', 'GAT', 'GCC', 'GGC', 'GGC', 'GAA', 'CAG', 'AAA', 'ACC', 'AAA', 'CCG', 'ACC', 'CAG', 'CAC', 'TCA', 'GTG', 'AAA', 'GAA', 'TTA', 'CGC', 'GAA', 'CTG', 'GGC', 'TTG', 'CAT', 'CCG', 'GAT', 'GTT', 'ATC', 'GTA', 'GGG', 'CGT', 'TGT', 'TCG', 'GAG', 'CGA', 'TTA', 'AAA', 'CCT', 'GCG', 'ACG', 'AAA', 'AAG', 'AAA', 'ATT', 'GCG', 'CTG', 'TTC', 'TGC', 'GAT', 'GTG', 'CCC', 'GAG', 'GAA', 'GCT', 'GTC', 'ATT', 'AGT', 'AAC', 'GAG', 'GAC', 'GCT', 'GAA', 'GAT', 'ATC', 'TAT', 'GAA', 'GTA', 'CCA', 'CTG', 'ATA', 'TTC', 'AAA', 'CGG', 'GAG', 'AAG', 'CTG', 'GAC', 'GAA', 'TAC', 'CTG', 'ATG', 'CGC', 'AAG', 'CTG', 'AAC', 'CTA', 'CGC', 'GCC', 'AAA', 'GAA', 'AGT', 'AGG', 'AAA', 'GAA', 'TGG', 'GAG', 'GAA', 'ATG', 'GTG', 'AAA', 'CGA', 'ATG', 'AAG', 'ACT', 'CTG', 'TAT', 'GAA', 'GAA', 'GCT', 'AGC', 'ATC', 'GCG', 'ATC', 'GTC', 'GGT', 'AAA', 'TAT', 'GTG', 'GAT', 'GTG', 'AGA', 'GAT', 'GCG', 'TAC', 'CTG', 'TCC', 'ATT', 'AAA', 'GAA', 'GCT', 'CTG', 'AAA', 'CAT', 'GGG', 'GGT', 'ATC', 'GAA', 'GCG', 'GGC', 'TGC', 'AAA', 'GTT', 'AAT', 'ATC', 'GTT', 'TGG', 'GTG', 'GAC', 'TCT', 'GAA', 'GAC', 'CTG', 'GAG', 'AAT', 'GTG', 'GAC', 'GAT', 'TTT', 'ACC', 'CTG', 'GAC', 'ATC', 'GAT', 'GGA', 'ATT', 'TTG', 'GTA', 'CCG', 'GGA', 'GGA', 'TTT', 'GGG', 'GCC', 'CGC', 'GGA', 'GCA', 'GAG', 'GGC', 'AAA', 'ATA', 'CGC', 'GCT', 'ATC', 'GAA', 'TAC', 'GCG', 'CGT', 'GAG', 'AAT', 'GGT', 'GTC', 'CCG', 'TTC', 'TTA', 'GGC', 'ATT', 'TGC', 'TTC', 'GGC', 'TTC', 'CAA', 'CTG', 'GCA', 'GTC', 'ATT', 'GAA', 'TTT', 'GCG', 'CGT', 'AAT', 'GTG', 'GTT', 'GGG', 'TTT', 'AGC', 'GAA', 'GCG', 'AAC', 'AGC', 'ACG', 'GAA', 'TTG', 'GAC', 'GAG', 'AAC', 'ACG', 'CCA', 'CAT', 'CCA', 'GTC', 'ATT', 'GAT', 'TTG', 'TTA', 'CCG', 'GAG', 'CAG', 'AAA', 'GGC', 'ATC', 'GAT', 'GAA', 'ATG', 'GGG', 'GGG', 'ACG', 'ATG', 'AGA', 'CTG', 'GGT', 'GAT', 'ATT', 'GAA', 'GTC', 'ACT', 'ATT', 'AAA', 'CCG', 'GGT', 'ACC', 'ATT', 'GCG', 'CAT', 'AAA', 'CTC', 'TAC', 'GGT', 'TCC', 'GAA', 'AAA', 'GTT', 'GTT', 'GAG', 'CGG', 'CAT', 'AGA', 'CAT', 'CGT', 'TAC', 'GAA', 'GTG', 'AAC', 'CCG', 'GAA', 'TAC', 'ATA', 'GAA', 'AAA', 'ATT', 'GAA', 'TCA', 'AAA', 'GGC', 'CTG', 'GTA', 'TTC', 'AGC', 'GCC', 'TAT', 'TCA', 'GAT', 'GGG', 'GGC', 'CGT', 'CGG', 'ATG', 'GAA', 'ATT', 'GCT', 'GAA', 'CTG', 'CCG', 'GAT', 'CAT', 'CCT', 'TTT', 'TTC', 'TTT', 'GCA', 'ACG', 'CAG', 'TTT', 'CAT', 'CCG', 'GAG', 'TTC', 'AAG', 'TCA', 'CGT', 'CCC', 'TAT', 'CGC', 'CCT', 'TCC', 'CCG', 'CCA', 'TTT', 'GTT', 'GGT', 'TTC', 'GTG', 'CGT', 'GCC', 'GCC', 'CTG', 'AAA', 'TAC', 'CGC', 'CGC', 'GAA', 'GAA', 'GAA', 'ATC', 'TAA']\n",
            "Processing gene: coaBC with protein sequence: MHLERIRGRRSRKLERKKIVLGVTGSIAAV...\n",
            "(18, 'Hairpin 1: TGC(ATTTGGAGC)GCA\\nHairpin 2: ATT(AGCCCGTG)AAT\\nHairpin 3: GCG(CCGCA)CGC\\nHairpin 4: TAC(GGGAA)GTA\\nHairpin 5: GTA(CCGCTAA)TAC\\nHairpin 6: GCC(CTGGGCAGT)GGC\\nHairpin 7: CGG(AACAAGG)CCG\\nHairpin 8: GCA(TTGAATTTG)TGC\\nHairpin 9: TTC(CCCAGCACA)GAA\\nHairpin 10: TGA(TCCCA)TCA\\nHairpin 11: AAA(TAGC)TTT\\nHairpin 12: GTA(GTTCACGT)TAC\\nHairpin 13: GAC(TTCATC)GTC\\nHairpin 14: CTT(AAACTGA)AAG\\nHairpin 15: TTC(AAGGCG)GAA\\nHairpin 16: CAT(CTGAAAAA)ATG\\nHairpin 17: AGA(TACGCGCGT)TCT\\nHairpin 18: CGA(GCGGA)TCG\\n')\n",
            "ATGCATTTGGAGCGCATTCGTGGACGTCGTAGCCGGAAACTGGAACGCAAAAAAATAGTTCTGGGGGTTACGGGGAGCATTGCAGCAGTGGAAACGGTCAAATTAGCCCGTGAATTGGTCCGTCGCGGCGCTGATGTCACCGCCGTCATGTCTCGCGCCGCACGCAAAATTATCCACCCTTATGCTCTGGAGTTCGCAACGGGCAAACGAGTAGTGACGGAGATTACGGGAAGTATCGAACACGTCAATTTGCTGGGCGAGTATGGCGACGCCGACCTTTTCCTGATCGCACCTTGTACCGCTAATACCATCTCAAAAATCGCGCAGGGTATCGATGACACACCGGTTACGACTTTCGCAACGACCGCCCTGGGCAGTGGCAAACCTATCATCATTGTTCCAGCTATGCACGAGGCGATGATGCGGAACAAGGCCGTGCTGGAAAACATACAACGTCTGATCGATATGGGCATTGAATTTGTGCAGCCCCGTATTGAGGAAGGTAAAGCGAAATTCCCCAGCACAGAAACAATTTGCCTACATGTCGAGCGAGAACTGTATCCGAAGGAAATGAAAGGTAAGCGGGTGGTAGTAACTAGCGGTCCCACTTACGAACAAATTGATCCCATCAGGTTCATTTCTAATAAGTCTTCCGGCCGCATGGGTCTGGAAATAGCTTTGGAGTTTTGGCGCCGCGGTGCAGATGTAGTTCACGTTACGAGCAAGCCGAGTGGAATGTCCCTGCCGAACTATAAAGAAATTCGCGTGTGGTCAGTCGAGGATATGATGAAAGCTGTGCTGTATGAGATCGGGAAAGGCTGTGATCTGTTCGTGTCCTCGGCGGCAGCAGCGGACTTCATCGTCGACGCAGAAGCCAAAAAGATCAAAACCGCGCCGGAACTGGTGCTTAAACTGAAAGAATCCCCGAAAATCATTAAAGAAGTTCGCAAAATCTATAGTGGTCACATTATCGGCTTCAAGGCGGAAACCGGTATGAGTGATGATGAGCTTCTGAAGGTGGCATCTGAAAAAATGGCCGACGATAATCTGAACATGGTGGTGGCGAACGATGTTTTAGAAAGAGGTATGGGAACAGAAGATACGCGCGTTCTGATATTGACCCCTAAACGGCAAGAATGGGTCGAAGGCCTGAAACAGCATGTGGCCGAGCGGATCGTAGAAGCGTATTTAGAGGACTGCTTGTGA\n",
            "['ATG', 'CAT', 'TTG', 'GAG', 'CGC', 'ATT', 'CGT', 'GGA', 'CGT', 'CGT', 'AGC', 'CGG', 'AAA', 'CTG', 'GAA', 'CGC', 'AAA', 'AAA', 'ATA', 'GTT', 'CTG', 'GGG', 'GTT', 'ACG', 'GGG', 'AGC', 'ATT', 'GCA', 'GCA', 'GTG', 'GAA', 'ACG', 'GTC', 'AAA', 'TTA', 'GCC', 'CGT', 'GAA', 'TTG', 'GTC', 'CGT', 'CGC', 'GGC', 'GCT', 'GAT', 'GTC', 'ACC', 'GCC', 'GTC', 'ATG', 'TCT', 'CGC', 'GCC', 'GCA', 'CGC', 'AAA', 'ATT', 'ATC', 'CAC', 'CCT', 'TAT', 'GCT', 'CTG', 'GAG', 'TTC', 'GCA', 'ACG', 'GGC', 'AAA', 'CGA', 'GTA', 'GTG', 'ACG', 'GAG', 'ATT', 'ACG', 'GGA', 'AGT', 'ATC', 'GAA', 'CAC', 'GTC', 'AAT', 'TTG', 'CTG', 'GGC', 'GAG', 'TAT', 'GGC', 'GAC', 'GCC', 'GAC', 'CTT', 'TTC', 'CTG', 'ATC', 'GCA', 'CCT', 'TGT', 'ACC', 'GCT', 'AAT', 'ACC', 'ATC', 'TCA', 'AAA', 'ATC', 'GCG', 'CAG', 'GGT', 'ATC', 'GAT', 'GAC', 'ACA', 'CCG', 'GTT', 'ACG', 'ACT', 'TTC', 'GCA', 'ACG', 'ACC', 'GCC', 'CTG', 'GGC', 'AGT', 'GGC', 'AAA', 'CCT', 'ATC', 'ATC', 'ATT', 'GTT', 'CCA', 'GCT', 'ATG', 'CAC', 'GAG', 'GCG', 'ATG', 'ATG', 'CGG', 'AAC', 'AAG', 'GCC', 'GTG', 'CTG', 'GAA', 'AAC', 'ATA', 'CAA', 'CGT', 'CTG', 'ATC', 'GAT', 'ATG', 'GGC', 'ATT', 'GAA', 'TTT', 'GTG', 'CAG', 'CCC', 'CGT', 'ATT', 'GAG', 'GAA', 'GGT', 'AAA', 'GCG', 'AAA', 'TTC', 'CCC', 'AGC', 'ACA', 'GAA', 'ACA', 'ATT', 'TGC', 'CTA', 'CAT', 'GTC', 'GAG', 'CGA', 'GAA', 'CTG', 'TAT', 'CCG', 'AAG', 'GAA', 'ATG', 'AAA', 'GGT', 'AAG', 'CGG', 'GTG', 'GTA', 'GTA', 'ACT', 'AGC', 'GGT', 'CCC', 'ACT', 'TAC', 'GAA', 'CAA', 'ATT', 'GAT', 'CCC', 'ATC', 'AGG', 'TTC', 'ATT', 'TCT', 'AAT', 'AAG', 'TCT', 'TCC', 'GGC', 'CGC', 'ATG', 'GGT', 'CTG', 'GAA', 'ATA', 'GCT', 'TTG', 'GAG', 'TTT', 'TGG', 'CGC', 'CGC', 'GGT', 'GCA', 'GAT', 'GTA', 'GTT', 'CAC', 'GTT', 'ACG', 'AGC', 'AAG', 'CCG', 'AGT', 'GGA', 'ATG', 'TCC', 'CTG', 'CCG', 'AAC', 'TAT', 'AAA', 'GAA', 'ATT', 'CGC', 'GTG', 'TGG', 'TCA', 'GTC', 'GAG', 'GAT', 'ATG', 'ATG', 'AAA', 'GCT', 'GTG', 'CTG', 'TAT', 'GAG', 'ATC', 'GGG', 'AAA', 'GGC', 'TGT', 'GAT', 'CTG', 'TTC', 'GTG', 'TCC', 'TCG', 'GCG', 'GCA', 'GCA', 'GCG', 'GAC', 'TTC', 'ATC', 'GTC', 'GAC', 'GCA', 'GAA', 'GCC', 'AAA', 'AAG', 'ATC', 'AAA', 'ACC', 'GCG', 'CCG', 'GAA', 'CTG', 'GTG', 'CTT', 'AAA', 'CTG', 'AAA', 'GAA', 'TCC', 'CCG', 'AAA', 'ATC', 'ATT', 'AAA', 'GAA', 'GTT', 'CGC', 'AAA', 'ATC', 'TAT', 'AGT', 'GGT', 'CAC', 'ATT', 'ATC', 'GGC', 'TTC', 'AAG', 'GCG', 'GAA', 'ACC', 'GGT', 'ATG', 'AGT', 'GAT', 'GAT', 'GAG', 'CTT', 'CTG', 'AAG', 'GTG', 'GCA', 'TCT', 'GAA', 'AAA', 'ATG', 'GCC', 'GAC', 'GAT', 'AAT', 'CTG', 'AAC', 'ATG', 'GTG', 'GTG', 'GCG', 'AAC', 'GAT', 'GTT', 'TTA', 'GAA', 'AGA', 'GGT', 'ATG', 'GGA', 'ACA', 'GAA', 'GAT', 'ACG', 'CGC', 'GTT', 'CTG', 'ATA', 'TTG', 'ACC', 'CCT', 'AAA', 'CGG', 'CAA', 'GAA', 'TGG', 'GTC', 'GAA', 'GGC', 'CTG', 'AAA', 'CAG', 'CAT', 'GTG', 'GCC', 'GAG', 'CGG', 'ATC', 'GTA', 'GAA', 'GCG', 'TAT', 'TTA', 'GAG', 'GAC', 'TGC', 'TTG', 'TGA']\n",
            "Processing gene: XD40_1191 with protein sequence: MYFITSNEGKFREVREMASKYGIEIEWLKM...\n",
            "(18, 'Hairpin 1: ATG(TACTT)CAT\\nHairpin 2: TGC(GTGAGATG)GCA\\nHairpin 3: CGG(CTGT)CCG\\nHairpin 4: CAA(AACCA)TTG\\nHairpin 5: CTT(ATGG)AAG\\nHairpin 6: GTA(AGGCA)TAC\\nHairpin 7: AAG(GCATA)CTT\\nHairpin 8: CAT(ACTTC)ATG\\nHairpin 9: GCC(GTTGT)GGC\\nHairpin 10: CGT(ACTTTG)ACG\\nHairpin 11: CTT(TGACGGGA)AAG\\nHairpin 12: TTT(GACGGG)AAA\\nHairpin 13: GTG(AGAACGTT)CAC\\nHairpin 14: TGA(GAACGT)TCA\\nHairpin 15: GTG(AGATTT)CAC\\nHairpin 16: TGA(GATT)TCA\\nHairpin 17: TAT(TTTCTT)ATA\\nHairpin 18: AGA(ACAAAA)TCT\\n')\n",
            "ATGTACTTCATCACTTCCAACGAGGGCAAATTCCGTGAAGTGCGTGAGATGGCAAGTAAATATGGCATCGAGATTGAGTGGCTGAAAATGGAATATATCGAGCCGCAGGGTTCGTCGCTTGAGGAAATTGCACGGCTGTCCGCTGAAATGCTGGCTGAGAAAGTCGAAGGTGAGTTTGTGATCGAGGATAGCGGATTGTTCGTTGAAGCTCTTAAAGGATTTCCGGGCCCCTACTCATCCTACGTGTTCAAAACCATTGGCAACGAAGGTATCCTGAAACTTATGGAAGGCGTCGAGAATCGTAAGGCATACTTCATGGCCGTTGTGGCGTACTTTGACGGGAAAGAGGTGAGAACGTTCACAGGTAAGGTAGAGGGTGAGATTTCACGTGAGATGCGCGGCACACAGGGCTTTGGTTATGATCCTATTTTCTTATACGGCAACAAGACTTTCGCAGAGATGGCCACAGAGGAAAAAAATCAAGTGTCACATCGGCGTAAGGCGTTTGAGGAGTTTTTTCGCTGGCTCAAGGAGAACAAAATCTAA\n",
            "['ATG', 'TAC', 'TTC', 'ATC', 'ACT', 'TCC', 'AAC', 'GAG', 'GGC', 'AAA', 'TTC', 'CGT', 'GAA', 'GTG', 'CGT', 'GAG', 'ATG', 'GCA', 'AGT', 'AAA', 'TAT', 'GGC', 'ATC', 'GAG', 'ATT', 'GAG', 'TGG', 'CTG', 'AAA', 'ATG', 'GAA', 'TAT', 'ATC', 'GAG', 'CCG', 'CAG', 'GGT', 'TCG', 'TCG', 'CTT', 'GAG', 'GAA', 'ATT', 'GCA', 'CGG', 'CTG', 'TCC', 'GCT', 'GAA', 'ATG', 'CTG', 'GCT', 'GAG', 'AAA', 'GTC', 'GAA', 'GGT', 'GAG', 'TTT', 'GTG', 'ATC', 'GAG', 'GAT', 'AGC', 'GGA', 'TTG', 'TTC', 'GTT', 'GAA', 'GCT', 'CTT', 'AAA', 'GGA', 'TTT', 'CCG', 'GGC', 'CCC', 'TAC', 'TCA', 'TCC', 'TAC', 'GTG', 'TTC', 'AAA', 'ACC', 'ATT', 'GGC', 'AAC', 'GAA', 'GGT', 'ATC', 'CTG', 'AAA', 'CTT', 'ATG', 'GAA', 'GGC', 'GTC', 'GAG', 'AAT', 'CGT', 'AAG', 'GCA', 'TAC', 'TTC', 'ATG', 'GCC', 'GTT', 'GTG', 'GCG', 'TAC', 'TTT', 'GAC', 'GGG', 'AAA', 'GAG', 'GTG', 'AGA', 'ACG', 'TTC', 'ACA', 'GGT', 'AAG', 'GTA', 'GAG', 'GGT', 'GAG', 'ATT', 'TCA', 'CGT', 'GAG', 'ATG', 'CGC', 'GGC', 'ACA', 'CAG', 'GGC', 'TTT', 'GGT', 'TAT', 'GAT', 'CCT', 'ATT', 'TTC', 'TTA', 'TAC', 'GGC', 'AAC', 'AAG', 'ACT', 'TTC', 'GCA', 'GAG', 'ATG', 'GCC', 'ACA', 'GAG', 'GAA', 'AAA', 'AAT', 'CAA', 'GTG', 'TCA', 'CAT', 'CGG', 'CGT', 'AAG', 'GCG', 'TTT', 'GAG', 'GAG', 'TTT', 'TTT', 'CGC', 'TGG', 'CTC', 'AAG', 'GAG', 'AAC', 'AAA', 'ATC', 'TAA']\n",
            "Processing gene: asd with protein sequence: MIERSGYGIIAASLLLSAVAYLLHPLISAL...\n",
            "(6, 'Hairpin 1: AAC(GTAGTG)GTT\\nHairpin 2: ATG(GTCG)CAT\\nHairpin 3: ATT(GTCATATT)AAT\\nHairpin 4: TTA(TTCG)TAA\\nHairpin 5: GCG(GGGATATT)CGC\\nHairpin 6: GAA(TCAT)TTC\\n')\n",
            "ATGATTGAACGTAGTGGTTATGGAATTATTGCAGCGTCATTACTTTTATCCGCTGTGGCTTATCTGCTGCACCCCCTTATTAGCGCACTGTTCGTTGGGTTTGCACTCTTTACCGCATATTTCTTTAGGGACCCGGAACGTAAGATCGGGGAAGGGGTCGTTAGTCCGGCAGATGGTCGCATTGATTATTTGGAAGGCCGGAGGTTAGAAATTTTTATGAGTCCGTTCGATTGTCATATTAATCGGGCACCATGGGGCGGAAAGGTTCTGTCTGTAAAATTCATCGAAGGTAGTACTCCGCCTGCGTTTATTCGTAAGAGCGGCGTGCGTACTAATGAAATCCTGATAGAAACTGAACATGGTGTCTTTCGTGTCCTTCAGATGGCGGGGATATTCGCGAGGCGGATTGTTAGCTATGTGAGTGAGGGCGATGTAGTTAAAAAAGGGCAGAAGATTGGGATGATTCGTTTTGGTAGCCGTGTCGTGTTAGAAGTCCCGGAGGGCTTTAGATTTGTACGAAGCGTGGGCGAGAAAGTGAAGGCTGGTGAAACGGTTGCCCTGCGCGACGAATCATTTCAAGGTTCATAA\n",
            "['ATG', 'ATT', 'GAA', 'CGT', 'AGT', 'GGT', 'TAT', 'GGA', 'ATT', 'ATT', 'GCA', 'GCG', 'TCA', 'TTA', 'CTT', 'TTA', 'TCC', 'GCT', 'GTG', 'GCT', 'TAT', 'CTG', 'CTG', 'CAC', 'CCC', 'CTT', 'ATT', 'AGC', 'GCA', 'CTG', 'TTC', 'GTT', 'GGG', 'TTT', 'GCA', 'CTC', 'TTT', 'ACC', 'GCA', 'TAT', 'TTC', 'TTT', 'AGG', 'GAC', 'CCG', 'GAA', 'CGT', 'AAG', 'ATC', 'GGG', 'GAA', 'GGG', 'GTC', 'GTT', 'AGT', 'CCG', 'GCA', 'GAT', 'GGT', 'CGC', 'ATT', 'GAT', 'TAT', 'TTG', 'GAA', 'GGC', 'CGG', 'AGG', 'TTA', 'GAA', 'ATT', 'TTT', 'ATG', 'AGT', 'CCG', 'TTC', 'GAT', 'TGT', 'CAT', 'ATT', 'AAT', 'CGG', 'GCA', 'CCA', 'TGG', 'GGC', 'GGA', 'AAG', 'GTT', 'CTG', 'TCT', 'GTA', 'AAA', 'TTC', 'ATC', 'GAA', 'GGT', 'AGT', 'ACT', 'CCG', 'CCT', 'GCG', 'TTT', 'ATT', 'CGT', 'AAG', 'AGC', 'GGC', 'GTG', 'CGT', 'ACT', 'AAT', 'GAA', 'ATC', 'CTG', 'ATA', 'GAA', 'ACT', 'GAA', 'CAT', 'GGT', 'GTC', 'TTT', 'CGT', 'GTC', 'CTT', 'CAG', 'ATG', 'GCG', 'GGG', 'ATA', 'TTC', 'GCG', 'AGG', 'CGG', 'ATT', 'GTT', 'AGC', 'TAT', 'GTG', 'AGT', 'GAG', 'GGC', 'GAT', 'GTA', 'GTT', 'AAA', 'AAA', 'GGG', 'CAG', 'AAG', 'ATT', 'GGG', 'ATG', 'ATT', 'CGT', 'TTT', 'GGT', 'AGC', 'CGT', 'GTC', 'GTG', 'TTA', 'GAA', 'GTC', 'CCG', 'GAG', 'GGC', 'TTT', 'AGA', 'TTT', 'GTA', 'CGA', 'AGC', 'GTG', 'GGC', 'GAG', 'AAA', 'GTG', 'AAG', 'GCT', 'GGT', 'GAA', 'ACG', 'GTT', 'GCC', 'CTG', 'CGC', 'GAC', 'GAA', 'TCA', 'TTT', 'CAA', 'GGT', 'TCA', 'TAA']\n",
            "Processing gene: carB with protein sequence: MPKREDIRKIMVIGSGPIVIGQAAEFDYSG...\n",
            "Traceback (most recent call last):\n",
            "\n",
            "^C\n"
          ]
        }
      ]
    },
    {
      "cell_type": "code",
      "source": [
        "!python /content/drive/MyDrive/VSCode/Genetic_Frame/UCB_BioE134_GeneDesign/tests/unit/checkers/test_codon_checker.py"
      ],
      "metadata": {
        "id": "zconFEIwtXDT"
      },
      "execution_count": null,
      "outputs": []
    },
    {
      "cell_type": "code",
      "source": [
        "df.head()"
      ],
      "metadata": {
        "colab": {
          "base_uri": "https://localhost:8080/",
          "height": 206
        },
        "id": "y2RMcyEOrwwq",
        "outputId": "9d987581-61a8-44f6-d496-bde49afa05a3"
      },
      "execution_count": null,
      "outputs": [
        {
          "output_type": "execute_result",
          "data": {
            "text/plain": [
              "  Codon AA  Freq\n",
              "0   TTT  F  0.58\n",
              "1   TCT  S  0.14\n",
              "2   TAT  Y  0.57\n",
              "3   TGT  C  0.45\n",
              "4   TTC  F  0.42"
            ],
            "text/html": [
              "\n",
              "  <div id=\"df-c1b5f6b4-8747-405e-b445-75f1300f26f0\" class=\"colab-df-container\">\n",
              "    <div>\n",
              "<style scoped>\n",
              "    .dataframe tbody tr th:only-of-type {\n",
              "        vertical-align: middle;\n",
              "    }\n",
              "\n",
              "    .dataframe tbody tr th {\n",
              "        vertical-align: top;\n",
              "    }\n",
              "\n",
              "    .dataframe thead th {\n",
              "        text-align: right;\n",
              "    }\n",
              "</style>\n",
              "<table border=\"1\" class=\"dataframe\">\n",
              "  <thead>\n",
              "    <tr style=\"text-align: right;\">\n",
              "      <th></th>\n",
              "      <th>Codon</th>\n",
              "      <th>AA</th>\n",
              "      <th>Freq</th>\n",
              "    </tr>\n",
              "  </thead>\n",
              "  <tbody>\n",
              "    <tr>\n",
              "      <th>0</th>\n",
              "      <td>TTT</td>\n",
              "      <td>F</td>\n",
              "      <td>0.58</td>\n",
              "    </tr>\n",
              "    <tr>\n",
              "      <th>1</th>\n",
              "      <td>TCT</td>\n",
              "      <td>S</td>\n",
              "      <td>0.14</td>\n",
              "    </tr>\n",
              "    <tr>\n",
              "      <th>2</th>\n",
              "      <td>TAT</td>\n",
              "      <td>Y</td>\n",
              "      <td>0.57</td>\n",
              "    </tr>\n",
              "    <tr>\n",
              "      <th>3</th>\n",
              "      <td>TGT</td>\n",
              "      <td>C</td>\n",
              "      <td>0.45</td>\n",
              "    </tr>\n",
              "    <tr>\n",
              "      <th>4</th>\n",
              "      <td>TTC</td>\n",
              "      <td>F</td>\n",
              "      <td>0.42</td>\n",
              "    </tr>\n",
              "  </tbody>\n",
              "</table>\n",
              "</div>\n",
              "    <div class=\"colab-df-buttons\">\n",
              "\n",
              "  <div class=\"colab-df-container\">\n",
              "    <button class=\"colab-df-convert\" onclick=\"convertToInteractive('df-c1b5f6b4-8747-405e-b445-75f1300f26f0')\"\n",
              "            title=\"Convert this dataframe to an interactive table.\"\n",
              "            style=\"display:none;\">\n",
              "\n",
              "  <svg xmlns=\"http://www.w3.org/2000/svg\" height=\"24px\" viewBox=\"0 -960 960 960\">\n",
              "    <path d=\"M120-120v-720h720v720H120Zm60-500h600v-160H180v160Zm220 220h160v-160H400v160Zm0 220h160v-160H400v160ZM180-400h160v-160H180v160Zm440 0h160v-160H620v160ZM180-180h160v-160H180v160Zm440 0h160v-160H620v160Z\"/>\n",
              "  </svg>\n",
              "    </button>\n",
              "\n",
              "  <style>\n",
              "    .colab-df-container {\n",
              "      display:flex;\n",
              "      gap: 12px;\n",
              "    }\n",
              "\n",
              "    .colab-df-convert {\n",
              "      background-color: #E8F0FE;\n",
              "      border: none;\n",
              "      border-radius: 50%;\n",
              "      cursor: pointer;\n",
              "      display: none;\n",
              "      fill: #1967D2;\n",
              "      height: 32px;\n",
              "      padding: 0 0 0 0;\n",
              "      width: 32px;\n",
              "    }\n",
              "\n",
              "    .colab-df-convert:hover {\n",
              "      background-color: #E2EBFA;\n",
              "      box-shadow: 0px 1px 2px rgba(60, 64, 67, 0.3), 0px 1px 3px 1px rgba(60, 64, 67, 0.15);\n",
              "      fill: #174EA6;\n",
              "    }\n",
              "\n",
              "    .colab-df-buttons div {\n",
              "      margin-bottom: 4px;\n",
              "    }\n",
              "\n",
              "    [theme=dark] .colab-df-convert {\n",
              "      background-color: #3B4455;\n",
              "      fill: #D2E3FC;\n",
              "    }\n",
              "\n",
              "    [theme=dark] .colab-df-convert:hover {\n",
              "      background-color: #434B5C;\n",
              "      box-shadow: 0px 1px 3px 1px rgba(0, 0, 0, 0.15);\n",
              "      filter: drop-shadow(0px 1px 2px rgba(0, 0, 0, 0.3));\n",
              "      fill: #FFFFFF;\n",
              "    }\n",
              "  </style>\n",
              "\n",
              "    <script>\n",
              "      const buttonEl =\n",
              "        document.querySelector('#df-c1b5f6b4-8747-405e-b445-75f1300f26f0 button.colab-df-convert');\n",
              "      buttonEl.style.display =\n",
              "        google.colab.kernel.accessAllowed ? 'block' : 'none';\n",
              "\n",
              "      async function convertToInteractive(key) {\n",
              "        const element = document.querySelector('#df-c1b5f6b4-8747-405e-b445-75f1300f26f0');\n",
              "        const dataTable =\n",
              "          await google.colab.kernel.invokeFunction('convertToInteractive',\n",
              "                                                    [key], {});\n",
              "        if (!dataTable) return;\n",
              "\n",
              "        const docLinkHtml = 'Like what you see? Visit the ' +\n",
              "          '<a target=\"_blank\" href=https://colab.research.google.com/notebooks/data_table.ipynb>data table notebook</a>'\n",
              "          + ' to learn more about interactive tables.';\n",
              "        element.innerHTML = '';\n",
              "        dataTable['output_type'] = 'display_data';\n",
              "        await google.colab.output.renderOutput(dataTable, element);\n",
              "        const docLink = document.createElement('div');\n",
              "        docLink.innerHTML = docLinkHtml;\n",
              "        element.appendChild(docLink);\n",
              "      }\n",
              "    </script>\n",
              "  </div>\n",
              "\n",
              "\n",
              "<div id=\"df-4d0cffa2-d146-4546-ad87-cc10d725b0b5\">\n",
              "  <button class=\"colab-df-quickchart\" onclick=\"quickchart('df-4d0cffa2-d146-4546-ad87-cc10d725b0b5')\"\n",
              "            title=\"Suggest charts\"\n",
              "            style=\"display:none;\">\n",
              "\n",
              "<svg xmlns=\"http://www.w3.org/2000/svg\" height=\"24px\"viewBox=\"0 0 24 24\"\n",
              "     width=\"24px\">\n",
              "    <g>\n",
              "        <path d=\"M19 3H5c-1.1 0-2 .9-2 2v14c0 1.1.9 2 2 2h14c1.1 0 2-.9 2-2V5c0-1.1-.9-2-2-2zM9 17H7v-7h2v7zm4 0h-2V7h2v10zm4 0h-2v-4h2v4z\"/>\n",
              "    </g>\n",
              "</svg>\n",
              "  </button>\n",
              "\n",
              "<style>\n",
              "  .colab-df-quickchart {\n",
              "      --bg-color: #E8F0FE;\n",
              "      --fill-color: #1967D2;\n",
              "      --hover-bg-color: #E2EBFA;\n",
              "      --hover-fill-color: #174EA6;\n",
              "      --disabled-fill-color: #AAA;\n",
              "      --disabled-bg-color: #DDD;\n",
              "  }\n",
              "\n",
              "  [theme=dark] .colab-df-quickchart {\n",
              "      --bg-color: #3B4455;\n",
              "      --fill-color: #D2E3FC;\n",
              "      --hover-bg-color: #434B5C;\n",
              "      --hover-fill-color: #FFFFFF;\n",
              "      --disabled-bg-color: #3B4455;\n",
              "      --disabled-fill-color: #666;\n",
              "  }\n",
              "\n",
              "  .colab-df-quickchart {\n",
              "    background-color: var(--bg-color);\n",
              "    border: none;\n",
              "    border-radius: 50%;\n",
              "    cursor: pointer;\n",
              "    display: none;\n",
              "    fill: var(--fill-color);\n",
              "    height: 32px;\n",
              "    padding: 0;\n",
              "    width: 32px;\n",
              "  }\n",
              "\n",
              "  .colab-df-quickchart:hover {\n",
              "    background-color: var(--hover-bg-color);\n",
              "    box-shadow: 0 1px 2px rgba(60, 64, 67, 0.3), 0 1px 3px 1px rgba(60, 64, 67, 0.15);\n",
              "    fill: var(--button-hover-fill-color);\n",
              "  }\n",
              "\n",
              "  .colab-df-quickchart-complete:disabled,\n",
              "  .colab-df-quickchart-complete:disabled:hover {\n",
              "    background-color: var(--disabled-bg-color);\n",
              "    fill: var(--disabled-fill-color);\n",
              "    box-shadow: none;\n",
              "  }\n",
              "\n",
              "  .colab-df-spinner {\n",
              "    border: 2px solid var(--fill-color);\n",
              "    border-color: transparent;\n",
              "    border-bottom-color: var(--fill-color);\n",
              "    animation:\n",
              "      spin 1s steps(1) infinite;\n",
              "  }\n",
              "\n",
              "  @keyframes spin {\n",
              "    0% {\n",
              "      border-color: transparent;\n",
              "      border-bottom-color: var(--fill-color);\n",
              "      border-left-color: var(--fill-color);\n",
              "    }\n",
              "    20% {\n",
              "      border-color: transparent;\n",
              "      border-left-color: var(--fill-color);\n",
              "      border-top-color: var(--fill-color);\n",
              "    }\n",
              "    30% {\n",
              "      border-color: transparent;\n",
              "      border-left-color: var(--fill-color);\n",
              "      border-top-color: var(--fill-color);\n",
              "      border-right-color: var(--fill-color);\n",
              "    }\n",
              "    40% {\n",
              "      border-color: transparent;\n",
              "      border-right-color: var(--fill-color);\n",
              "      border-top-color: var(--fill-color);\n",
              "    }\n",
              "    60% {\n",
              "      border-color: transparent;\n",
              "      border-right-color: var(--fill-color);\n",
              "    }\n",
              "    80% {\n",
              "      border-color: transparent;\n",
              "      border-right-color: var(--fill-color);\n",
              "      border-bottom-color: var(--fill-color);\n",
              "    }\n",
              "    90% {\n",
              "      border-color: transparent;\n",
              "      border-bottom-color: var(--fill-color);\n",
              "    }\n",
              "  }\n",
              "</style>\n",
              "\n",
              "  <script>\n",
              "    async function quickchart(key) {\n",
              "      const quickchartButtonEl =\n",
              "        document.querySelector('#' + key + ' button');\n",
              "      quickchartButtonEl.disabled = true;  // To prevent multiple clicks.\n",
              "      quickchartButtonEl.classList.add('colab-df-spinner');\n",
              "      try {\n",
              "        const charts = await google.colab.kernel.invokeFunction(\n",
              "            'suggestCharts', [key], {});\n",
              "      } catch (error) {\n",
              "        console.error('Error during call to suggestCharts:', error);\n",
              "      }\n",
              "      quickchartButtonEl.classList.remove('colab-df-spinner');\n",
              "      quickchartButtonEl.classList.add('colab-df-quickchart-complete');\n",
              "    }\n",
              "    (() => {\n",
              "      let quickchartButtonEl =\n",
              "        document.querySelector('#df-4d0cffa2-d146-4546-ad87-cc10d725b0b5 button');\n",
              "      quickchartButtonEl.style.display =\n",
              "        google.colab.kernel.accessAllowed ? 'block' : 'none';\n",
              "    })();\n",
              "  </script>\n",
              "</div>\n",
              "\n",
              "    </div>\n",
              "  </div>\n"
            ],
            "application/vnd.google.colaboratory.intrinsic+json": {
              "type": "dataframe",
              "variable_name": "df",
              "summary": "{\n  \"name\": \"df\",\n  \"rows\": 64,\n  \"fields\": [\n    {\n      \"column\": \"Codon\",\n      \"properties\": {\n        \"dtype\": \"string\",\n        \"num_unique_values\": 64,\n        \"samples\": [\n          \"GTC\",\n          \"GAA\",\n          \"TTT\"\n        ],\n        \"semantic_type\": \"\",\n        \"description\": \"\"\n      }\n    },\n    {\n      \"column\": \"AA\",\n      \"properties\": {\n        \"dtype\": \"category\",\n        \"num_unique_values\": 21,\n        \"samples\": [\n          \"F\",\n          \"A\",\n          \"M\"\n        ],\n        \"semantic_type\": \"\",\n        \"description\": \"\"\n      }\n    },\n    {\n      \"column\": \"Freq\",\n      \"properties\": {\n        \"dtype\": \"number\",\n        \"std\": 0.22101626520264744,\n        \"min\": 0.03,\n        \"max\": 1.0,\n        \"num_unique_values\": 45,\n        \"samples\": [\n          0.39,\n          0.47,\n          0.16\n        ],\n        \"semantic_type\": \"\",\n        \"description\": \"\"\n      }\n    }\n  ]\n}"
            }
          },
          "metadata": {},
          "execution_count": 7
        }
      ]
    },
    {
      "cell_type": "code",
      "source": [
        "import numpy as np\n",
        "import pandas as pd\n",
        "df = pd.read_csv('/content/drive/MyDrive/VSCode/Genetic_Frame/UCB_BioE134_GeneDesign/genedesign/data/codon_usage.txt', sep=\"\\s+\", names = ['Codon', 'AA', 'Freq', '1', '2', '3'])\n",
        "df = df.drop(['1','2', '3'], axis = 1)\n",
        "aas = {}\n",
        "all_aas = df['AA'].unique()\n",
        "np.random.seed(10)\n",
        "ls = df[['Codon', 'Freq']].set_index('Codon')['Freq'].to_dict()\n",
        "norms = list(ls.values())/np.sum(list(ls.values()))\n",
        "for aa in all_aas:\n",
        "  ls = df[df['AA'] == aa][['Codon', 'Freq']].set_index('Codon')['Freq'].to_dict()\n",
        "  norms = list(ls.values())/np.sum(list(ls.values()))\n",
        "  aas[aa] ="
      ],
      "metadata": {
        "colab": {
          "base_uri": "https://localhost:8080/"
        },
        "id": "tPFciFh0pal4",
        "outputId": "2d5b526e-709e-4ac4-e238-759633e62b3e"
      },
      "execution_count": null,
      "outputs": [
        {
          "output_type": "execute_result",
          "data": {
            "text/plain": [
              "{'TTT': 0.58,\n",
              " 'TCT': 0.14,\n",
              " 'TAT': 0.57,\n",
              " 'TGT': 0.45,\n",
              " 'TTC': 0.42,\n",
              " 'TCC': 0.15,\n",
              " 'TAC': 0.43,\n",
              " 'TGC': 0.55,\n",
              " 'TTA': 0.13,\n",
              " 'TCA': 0.14,\n",
              " 'TAA': 0.59,\n",
              " 'TGA': 0.33,\n",
              " 'TTG': 0.13,\n",
              " 'TCG': 0.15,\n",
              " 'TAG': 0.08,\n",
              " 'TGG': 1.0,\n",
              " 'CTT': 0.11,\n",
              " 'CCT': 0.17,\n",
              " 'CAT': 0.58,\n",
              " 'CGT': 0.36,\n",
              " 'CTC': 0.1,\n",
              " 'CCC': 0.13,\n",
              " 'CAC': 0.42,\n",
              " 'CGC': 0.37,\n",
              " 'CTA': 0.04,\n",
              " 'CCA': 0.19,\n",
              " 'CAA': 0.33,\n",
              " 'CGA': 0.07,\n",
              " 'CTG': 0.49,\n",
              " 'CCG': 0.51,\n",
              " 'CAG': 0.67,\n",
              " 'CGG': 0.11,\n",
              " 'ATT': 0.5,\n",
              " 'ACT': 0.17,\n",
              " 'AAT': 0.47,\n",
              " 'AGT': 0.16,\n",
              " 'ATC': 0.4,\n",
              " 'ACC': 0.41,\n",
              " 'AAC': 0.53,\n",
              " 'AGC': 0.27,\n",
              " 'ATA': 0.09,\n",
              " 'ACA': 0.15,\n",
              " 'AAA': 0.76,\n",
              " 'AGA': 0.05,\n",
              " 'ATG': 1.0,\n",
              " 'ACG': 0.27,\n",
              " 'AAG': 0.24,\n",
              " 'AGG': 0.03,\n",
              " 'GTT': 0.26,\n",
              " 'GCT': 0.16,\n",
              " 'GAT': 0.63,\n",
              " 'GGT': 0.33,\n",
              " 'GTC': 0.21,\n",
              " 'GCC': 0.27,\n",
              " 'GAC': 0.37,\n",
              " 'GGC': 0.39,\n",
              " 'GTA': 0.16,\n",
              " 'GCA': 0.22,\n",
              " 'GAA': 0.68,\n",
              " 'GGA': 0.12,\n",
              " 'GTG': 0.37,\n",
              " 'GCG': 0.35,\n",
              " 'GAG': 0.32,\n",
              " 'GGG': 0.16}"
            ]
          },
          "metadata": {},
          "execution_count": 31
        }
      ]
    },
    {
      "cell_type": "code",
      "source": [
        "import numpy as np\n",
        "\n",
        "# Original probabilities\n",
        "probabilities = np.array([0.7, 0.2, 0.1])\n",
        "\n",
        "# Calculate the mean probability\n",
        "mean_prob = probabilities.mean()\n",
        "\n",
        "# Define a smoothing factor, where 0 means no change and 1 means full averaging to the mean\n",
        "smoothing_factor = 0.4  # Adjust this value to control the degree of smoothing\n",
        "\n",
        "# Apply smoothing by moving each probability a bit closer to the mean\n",
        "smoothed_probabilities = (1 - smoothing_factor) * probabilities + smoothing_factor * mean_prob\n",
        "\n",
        "# Normalize to ensure the probabilities sum to 1\n",
        "smoothed_probabilities /= smoothed_probabilities.sum()\n",
        "\n",
        "print(\"Original probabilities:\", probabilities)\n",
        "print(\"Smoothed probabilities:\", smoothed_probabilities)"
      ],
      "metadata": {
        "colab": {
          "base_uri": "https://localhost:8080/"
        },
        "id": "uYgElS1NqGGK",
        "outputId": "95e8f5ed-5d18-44b4-b386-e6d70decdccb"
      },
      "execution_count": null,
      "outputs": [
        {
          "output_type": "stream",
          "name": "stdout",
          "text": [
            "Original probabilities: [0.7 0.2 0.1]\n",
            "Smoothed probabilities: [0.55333333 0.25333333 0.19333333]\n"
          ]
        }
      ]
    },
    {
      "cell_type": "code",
      "source": [
        "print(sliced)"
      ],
      "metadata": {
        "colab": {
          "base_uri": "https://localhost:8080/"
        },
        "id": "gjfJL58FaOWF",
        "outputId": "c5e09acd-7ae7-4dd8-f5fe-a4780b57c844"
      },
      "execution_count": null,
      "outputs": [
        {
          "output_type": "stream",
          "name": "stdout",
          "text": [
            "(array(['ATG', 'ATG', 'ATG', 'ATG', 'ATG'], dtype='<U3'), array(['GGC', 'GGG', 'GGC', 'GGT', 'GGC'], dtype='<U3'), array(['GGC', 'GGG', 'GGC', 'GGT', 'GGC'], dtype='<U3'), array(['GCT', 'GCC', 'GCC', 'GCA', 'GCA'], dtype='<U3'), array(['TTC', 'TTT', 'TTC', 'TTC', 'TTT'], dtype='<U3'))\n"
          ]
        }
      ]
    },
    {
      "cell_type": "code",
      "source": [
        "!python /content/drive/MyDrive/VSCode/Genetic_Frame/UCB_BioE134_GeneDesign/genedesign/checkers/codon_checker.py"
      ],
      "metadata": {
        "id": "Mgs4hJqbE0rB",
        "colab": {
          "base_uri": "https://localhost:8080/"
        },
        "outputId": "248ab188-2f9b-455d-f936-bc7902615b10"
      },
      "execution_count": null,
      "outputs": [
        {
          "output_type": "stream",
          "name": "stdout",
          "text": [
            "CDS: ['ATG', 'CAA', 'GGG', 'TAA']\n",
            "Codons Above Board: True\n",
            "Codon Diversity: 1.0\n",
            "Rare Codon Count: 0\n",
            "Codon Adaptation Index (CAI): 0.42011818787489036\n"
          ]
        }
      ]
    },
    {
      "cell_type": "code",
      "source": [
        "!python /content/drive/MyDrive/VSCode/Genetic_Frame/UCB_BioE134_GeneDesign/tests/unit/checkers/test_GC_checker.py"
      ],
      "metadata": {
        "id": "TlNGtloA8nAI"
      },
      "execution_count": null,
      "outputs": []
    }
  ]
}